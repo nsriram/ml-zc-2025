{
 "cells": [
  {
   "cell_type": "code",
   "id": "initial_id",
   "metadata": {
    "collapsed": true,
    "ExecuteTime": {
     "end_time": "2025-10-08T18:10:36.463689Z",
     "start_time": "2025-10-08T18:10:36.459509Z"
    }
   },
   "source": [
    "import numpy as np\n",
    "import pandas as pd\n",
    "\n",
    "# Removes the limit for the number of displayed columns\n",
    "pd.set_option(\"display.max_columns\", None)\n",
    "# Sets the limit for the number of displayed rows\n",
    "pd.set_option(\"display.max_rows\", 100)\n",
    "\n",
    "import matplotlib.pyplot as plt\n",
    "import seaborn as sns\n",
    "\n",
    "%matplotlib inline\n",
    "\n",
    "# import and filter warnings\n",
    "import warnings\n",
    "warnings.filterwarnings(\"ignore\")"
   ],
   "outputs": [],
   "execution_count": 46
  },
  {
   "metadata": {},
   "cell_type": "markdown",
   "source": "### Download the CSV",
   "id": "db9d5ad9cf5309ac"
  },
  {
   "metadata": {
    "ExecuteTime": {
     "end_time": "2025-10-08T17:42:11.163051Z",
     "start_time": "2025-10-08T17:42:10.790910Z"
    }
   },
   "cell_type": "code",
   "source": "! wget https://raw.githubusercontent.com/alexeygrigorev/datasets/master/car_fuel_efficiency.csv",
   "id": "1dab9e13f6559edf",
   "outputs": [
    {
     "name": "stdout",
     "output_type": "stream",
     "text": [
      "--2025-10-08 23:12:10--  https://raw.githubusercontent.com/alexeygrigorev/datasets/master/car_fuel_efficiency.csv\r\n",
      "Resolving raw.githubusercontent.com (raw.githubusercontent.com)... 185.199.108.133, 185.199.111.133, 185.199.109.133, ...\r\n",
      "Connecting to raw.githubusercontent.com (raw.githubusercontent.com)|185.199.108.133|:443... connected.\r\n",
      "HTTP request sent, awaiting response... 200 OK\r\n",
      "Length: 874188 (854K) [text/plain]\r\n",
      "Saving to: ‘car_fuel_efficiency.csv.1’\r\n",
      "\r\n",
      "car_fuel_efficiency 100%[===================>] 853.70K  --.-KB/s    in 0.07s   \r\n",
      "\r\n",
      "2025-10-08 23:12:11 (11.7 MB/s) - ‘car_fuel_efficiency.csv.1’ saved [874188/874188]\r\n",
      "\r\n"
     ]
    }
   ],
   "execution_count": 2
  },
  {
   "metadata": {
    "ExecuteTime": {
     "end_time": "2025-10-08T18:10:57.784680Z",
     "start_time": "2025-10-08T18:10:57.766398Z"
    }
   },
   "cell_type": "code",
   "source": [
    "# read the car price data csv\n",
    "car_fe_df = pd.read_csv(\"car_fuel_efficiency.csv\")\n",
    "# show the first 5 rows\n",
    "car_fe_df.head()"
   ],
   "id": "7746cd8e31cfd81",
   "outputs": [
    {
     "data": {
      "text/plain": [
       "   engine_displacement  num_cylinders  horsepower  vehicle_weight  \\\n",
       "0                  170            3.0       159.0     3413.433759   \n",
       "1                  130            5.0        97.0     3149.664934   \n",
       "2                  170            NaN        78.0     3079.038997   \n",
       "3                  220            4.0         NaN     2542.392402   \n",
       "4                  210            1.0       140.0     3460.870990   \n",
       "\n",
       "   acceleration  model_year  origin fuel_type         drivetrain  num_doors  \\\n",
       "0          17.7        2003  Europe  Gasoline    All-wheel drive        0.0   \n",
       "1          17.8        2007     USA  Gasoline  Front-wheel drive        0.0   \n",
       "2          15.1        2018  Europe  Gasoline  Front-wheel drive        0.0   \n",
       "3          20.2        2009     USA    Diesel    All-wheel drive        2.0   \n",
       "4          14.4        2009  Europe  Gasoline    All-wheel drive        2.0   \n",
       "\n",
       "   fuel_efficiency_mpg  \n",
       "0            13.231729  \n",
       "1            13.688217  \n",
       "2            14.246341  \n",
       "3            16.912736  \n",
       "4            12.488369  "
      ],
      "text/html": [
       "<div>\n",
       "<style scoped>\n",
       "    .dataframe tbody tr th:only-of-type {\n",
       "        vertical-align: middle;\n",
       "    }\n",
       "\n",
       "    .dataframe tbody tr th {\n",
       "        vertical-align: top;\n",
       "    }\n",
       "\n",
       "    .dataframe thead th {\n",
       "        text-align: right;\n",
       "    }\n",
       "</style>\n",
       "<table border=\"1\" class=\"dataframe\">\n",
       "  <thead>\n",
       "    <tr style=\"text-align: right;\">\n",
       "      <th></th>\n",
       "      <th>engine_displacement</th>\n",
       "      <th>num_cylinders</th>\n",
       "      <th>horsepower</th>\n",
       "      <th>vehicle_weight</th>\n",
       "      <th>acceleration</th>\n",
       "      <th>model_year</th>\n",
       "      <th>origin</th>\n",
       "      <th>fuel_type</th>\n",
       "      <th>drivetrain</th>\n",
       "      <th>num_doors</th>\n",
       "      <th>fuel_efficiency_mpg</th>\n",
       "    </tr>\n",
       "  </thead>\n",
       "  <tbody>\n",
       "    <tr>\n",
       "      <th>0</th>\n",
       "      <td>170</td>\n",
       "      <td>3.0</td>\n",
       "      <td>159.0</td>\n",
       "      <td>3413.433759</td>\n",
       "      <td>17.7</td>\n",
       "      <td>2003</td>\n",
       "      <td>Europe</td>\n",
       "      <td>Gasoline</td>\n",
       "      <td>All-wheel drive</td>\n",
       "      <td>0.0</td>\n",
       "      <td>13.231729</td>\n",
       "    </tr>\n",
       "    <tr>\n",
       "      <th>1</th>\n",
       "      <td>130</td>\n",
       "      <td>5.0</td>\n",
       "      <td>97.0</td>\n",
       "      <td>3149.664934</td>\n",
       "      <td>17.8</td>\n",
       "      <td>2007</td>\n",
       "      <td>USA</td>\n",
       "      <td>Gasoline</td>\n",
       "      <td>Front-wheel drive</td>\n",
       "      <td>0.0</td>\n",
       "      <td>13.688217</td>\n",
       "    </tr>\n",
       "    <tr>\n",
       "      <th>2</th>\n",
       "      <td>170</td>\n",
       "      <td>NaN</td>\n",
       "      <td>78.0</td>\n",
       "      <td>3079.038997</td>\n",
       "      <td>15.1</td>\n",
       "      <td>2018</td>\n",
       "      <td>Europe</td>\n",
       "      <td>Gasoline</td>\n",
       "      <td>Front-wheel drive</td>\n",
       "      <td>0.0</td>\n",
       "      <td>14.246341</td>\n",
       "    </tr>\n",
       "    <tr>\n",
       "      <th>3</th>\n",
       "      <td>220</td>\n",
       "      <td>4.0</td>\n",
       "      <td>NaN</td>\n",
       "      <td>2542.392402</td>\n",
       "      <td>20.2</td>\n",
       "      <td>2009</td>\n",
       "      <td>USA</td>\n",
       "      <td>Diesel</td>\n",
       "      <td>All-wheel drive</td>\n",
       "      <td>2.0</td>\n",
       "      <td>16.912736</td>\n",
       "    </tr>\n",
       "    <tr>\n",
       "      <th>4</th>\n",
       "      <td>210</td>\n",
       "      <td>1.0</td>\n",
       "      <td>140.0</td>\n",
       "      <td>3460.870990</td>\n",
       "      <td>14.4</td>\n",
       "      <td>2009</td>\n",
       "      <td>Europe</td>\n",
       "      <td>Gasoline</td>\n",
       "      <td>All-wheel drive</td>\n",
       "      <td>2.0</td>\n",
       "      <td>12.488369</td>\n",
       "    </tr>\n",
       "  </tbody>\n",
       "</table>\n",
       "</div>"
      ]
     },
     "execution_count": 48,
     "metadata": {},
     "output_type": "execute_result"
    }
   ],
   "execution_count": 48
  },
  {
   "metadata": {},
   "cell_type": "markdown",
   "source": "## Preparing the dataset",
   "id": "5f30a646bb9bdb6c"
  },
  {
   "metadata": {
    "ExecuteTime": {
     "end_time": "2025-10-08T18:10:59.688938Z",
     "start_time": "2025-10-08T18:10:59.684269Z"
    }
   },
   "cell_type": "code",
   "source": [
    "# Use only the following columns:\n",
    "# 'engine_displacement', 'horsepower', 'vehicle_weight', 'model_year', 'fuel_efficiency_mpg'\n",
    "base  = ['engine_displacement', 'horsepower', 'vehicle_weight', 'model_year', 'fuel_efficiency_mpg']\n",
    "df = car_fe_df[base]"
   ],
   "id": "32f85704e16d32ec",
   "outputs": [],
   "execution_count": 49
  },
  {
   "metadata": {},
   "cell_type": "markdown",
   "source": "### EDA",
   "id": "eb15fdab5f7b7439"
  },
  {
   "metadata": {
    "ExecuteTime": {
     "end_time": "2025-10-08T18:11:01.481206Z",
     "start_time": "2025-10-08T18:11:01.401713Z"
    }
   },
   "cell_type": "code",
   "source": [
    "# Look at the fuel_efficiency_mpg variable. Does it have a long tail ?\n",
    "sns.histplot(df[\"fuel_efficiency_mpg\"], bins=50, kde=True)"
   ],
   "id": "f0819fb1e3a6c09f",
   "outputs": [
    {
     "data": {
      "text/plain": [
       "<Axes: xlabel='fuel_efficiency_mpg', ylabel='Count'>"
      ]
     },
     "execution_count": 50,
     "metadata": {},
     "output_type": "execute_result"
    },
    {
     "data": {
      "text/plain": [
       "<Figure size 640x480 with 1 Axes>"
      ],
      "image/png": "[encoded data removed]"
     },
     "metadata": {},
     "output_type": "display_data"
    }
   ],
   "execution_count": 50
  },
  {
   "metadata": {},
   "cell_type": "markdown",
   "source": [
    "**Observations**:\n",
    "- The `fuel_efficiency_mpg` does not have significant long tail\n",
    "- ’s a roughly symmetric, normal-like distribution."
   ],
   "id": "df78144d66b98b01"
  },
  {
   "metadata": {},
   "cell_type": "markdown",
   "source": "### Question 1",
   "id": "1402517368f9b156"
  },
  {
   "metadata": {
    "ExecuteTime": {
     "end_time": "2025-10-08T18:11:03.837501Z",
     "start_time": "2025-10-08T18:11:03.832308Z"
    }
   },
   "cell_type": "code",
   "source": [
    "# There's one column with missing values. What is it?\n",
    "df.isnull().sum()"
   ],
   "id": "c9092469cc420737",
   "outputs": [
    {
     "data": {
      "text/plain": [
       "engine_displacement      0\n",
       "horsepower             708\n",
       "vehicle_weight           0\n",
       "model_year               0\n",
       "fuel_efficiency_mpg      0\n",
       "dtype: int64"
      ]
     },
     "execution_count": 51,
     "metadata": {},
     "output_type": "execute_result"
    }
   ],
   "execution_count": 51
  },
  {
   "metadata": {},
   "cell_type": "markdown",
   "source": [
    "**Observations**\n",
    "- Column `horsepower` has 708 missing values"
   ],
   "id": "e5128924733e49ce"
  },
  {
   "metadata": {},
   "cell_type": "markdown",
   "source": "### Question 2",
   "id": "e46d4f2298f43cf8"
  },
  {
   "metadata": {
    "ExecuteTime": {
     "end_time": "2025-10-08T18:11:09.630090Z",
     "start_time": "2025-10-08T18:11:09.625597Z"
    }
   },
   "cell_type": "code",
   "source": [
    "# What's the median (50% percentile) for variable 'horsepower'?\n",
    "df[\"horsepower\"].median()"
   ],
   "id": "c892fae8c38fbd65",
   "outputs": [
    {
     "data": {
      "text/plain": [
       "np.float64(149.0)"
      ]
     },
     "execution_count": 52,
     "metadata": {},
     "output_type": "execute_result"
    }
   ],
   "execution_count": 52
  },
  {
   "metadata": {},
   "cell_type": "markdown",
   "source": [
    "**Observations**\n",
    "- 149.0 is the median for column 'horsepower' (including the missing values)"
   ],
   "id": "9ec8c64288bd9032"
  },
  {
   "metadata": {},
   "cell_type": "markdown",
   "source": "### Prepare and split the dataset",
   "id": "4c1bcbd760f0ff86"
  },
  {
   "metadata": {
    "ExecuteTime": {
     "end_time": "2025-10-08T18:11:16.832877Z",
     "start_time": "2025-10-08T18:11:16.830017Z"
    }
   },
   "cell_type": "code",
   "source": [
    "# Shuffle the dataset (the filtered one you created above), use seed 42.\n",
    "n = len(df)\n",
    "n_val = int(n * 0.2)\n",
    "n_test = int(n * 0.2)\n",
    "n_train = n - n_val - n_test\n",
    "\n",
    "idx = np.arange(n)\n",
    "np.random.seed(42)\n",
    "np.random.shuffle(idx)\n",
    "\n",
    "# Split your data in train/val/test sets, with 60%/20%/20% distribution.\n",
    "df_train = df.iloc[idx[:n_train]]\n",
    "df_val = df.iloc[idx[n_train:n_train + n_val]]\n",
    "df_test = df.iloc[idx[n_train + n_val:]]\n",
    "\n",
    "y_train = np.log1p(df_train.fuel_efficiency_mpg.values)\n",
    "y_val = np.log1p(df_val.fuel_efficiency_mpg.values)\n",
    "y_test = np.log1p(df_test.fuel_efficiency_mpg.values)"
   ],
   "id": "32f2a902bbc44626",
   "outputs": [],
   "execution_count": 53
  },
  {
   "metadata": {},
   "cell_type": "markdown",
   "source": [
    "### Question 3\n",
    "- We need to deal with missing values for the column from Q1.\n",
    "- We have two options: fill it with 0 or with the mean of this variable.\n",
    "- Try both options. For each, train a linear regression model without regularization using the code from the lessons.\n",
    "- For computing the mean, use the training only"
   ],
   "id": "f3cc0b9c2ad4a1c1"
  },
  {
   "metadata": {
    "ExecuteTime": {
     "end_time": "2025-10-08T18:11:19.747521Z",
     "start_time": "2025-10-08T18:11:19.744641Z"
    }
   },
   "cell_type": "code",
   "source": [
    "# function to train linear regression model\n",
    "def train_linear_regression(X, y):\n",
    "    ones = np.ones(X.shape[0])\n",
    "    X = np.column_stack([ones, X])\n",
    "\n",
    "    XTX = X.T.dot(X)\n",
    "    XTX_inv = np.linalg.inv(XTX)\n",
    "    w_full = XTX_inv.dot(X.T).dot(y)\n",
    "\n",
    "    return w_full[0], w_full[1:]"
   ],
   "id": "5ed6563cdbb5b745",
   "outputs": [],
   "execution_count": 54
  },
  {
   "metadata": {
    "ExecuteTime": {
     "end_time": "2025-10-08T18:11:21.277079Z",
     "start_time": "2025-10-08T18:11:21.274224Z"
    }
   },
   "cell_type": "code",
   "source": [
    "# function to compute RMSE\n",
    "def rmse(y, y_pred_local):\n",
    "    se = (y - y_pred_local) ** 2\n",
    "    mse = se.mean()\n",
    "    return np.sqrt(mse)"
   ],
   "id": "4b7ecccca0ce078",
   "outputs": [],
   "execution_count": 55
  },
  {
   "metadata": {},
   "cell_type": "markdown",
   "source": "#### Option 1 - fill missing values with 0",
   "id": "cff239aa42945280"
  },
  {
   "metadata": {
    "ExecuteTime": {
     "end_time": "2025-10-08T18:12:14.717771Z",
     "start_time": "2025-10-08T18:12:14.712276Z"
    }
   },
   "cell_type": "code",
   "source": [
    "# fill missing values with 0 and drop the target variable fuel_efficiency_mpg from the training set\n",
    "X_train_zeros = df_train.drop(columns=[\"fuel_efficiency_mpg\"]).fillna(0).values\n",
    "\n",
    "# train the model\n",
    "w0, w = train_linear_regression(X_train_zeros, y_train)\n",
    "\n",
    "# make predictions\n",
    "y_pred = w0 + X_train_zeros.dot(w)\n",
    "\n",
    "# compute RMSE for training set by filling missing values with 0\n",
    "fill_zero_rmse = rmse(y_train, y_pred)\n",
    "\n",
    "# Round the RMSE score to 2 decimal digits\n",
    "fill_zero_rmse = round(fill_zero_rmse, 2)\n",
    "\n",
    "# print the RMSE obtained on the training set by filling missing values with 0\n",
    "print(f\"Training Data RMSE (fill missing with 0): {fill_zero_rmse}\")\n",
    "\n",
    "# Use the validation dataset y_val to evaluate the models and compare the RMSE of each option\n",
    "# drop the target variable fuel_efficiency_mpg from the validation set\n",
    "X_val_zeros = df_val.drop(columns=[\"fuel_efficiency_mpg\"]).fillna(0).values\n",
    "y_val_pred = w0 + X_val_zeros.dot(w)\n",
    "val_rmse_zeros = rmse(y_val, y_val_pred)\n",
    "\n",
    "# Round the RMSE score to 2 decimal digits\n",
    "val_rmse_zeros = round(val_rmse_zeros, 2)\n",
    "\n",
    "# Round the RMSE scores to 2 decimal digits using round(score, 2)\n",
    "print(f\"Validation Data RMSE (fill missing with 0): {val_rmse_zeros}\")\n"
   ],
   "id": "ce6f2d429973fa48",
   "outputs": [
    {
     "name": "stdout",
     "output_type": "stream",
     "text": [
      "Training Data RMSE (fill missing with 0): 0.04\n",
      "Validation Data RMSE (fill missing with 0): 0.04\n"
     ]
    }
   ],
   "execution_count": 56
  },
  {
   "metadata": {},
   "cell_type": "markdown",
   "source": "#### Option 2 - fill missing values with the mean",
   "id": "5a5b9d3c11e3692"
  },
  {
   "metadata": {
    "ExecuteTime": {
     "end_time": "2025-10-08T18:13:17.034980Z",
     "start_time": "2025-10-08T18:13:17.031005Z"
    }
   },
   "cell_type": "code",
   "source": [
    "# fill missing values with the mean of the training set\n",
    "mean_horsepower = df_train[\"horsepower\"].mean()\n",
    "X_train_mean = df_train.drop(columns=[\"fuel_efficiency_mpg\"]).fillna(mean_horsepower).values\n",
    "\n",
    "# train the model\n",
    "w0, w = train_linear_regression(X_train_mean, y_train)\n",
    "\n",
    "# make predictions\n",
    "y_pred = w0 + X_train_mean.dot(w)\n",
    "\n",
    "# compute RMSE for training set by filling missing values with the mean\n",
    "fill_mean_rmse = rmse(y_train, y_pred)\n",
    "\n",
    "# Round the RMSE score to 2 decimal digits\n",
    "fill_mean_rmse = round(fill_mean_rmse, 2)\n",
    "\n",
    "# print the RMSE obtained on the training set by filling missing values with the mean\n",
    "print(f\"Training Data RMSE (fill missing with mean): {fill_mean_rmse}\")\n",
    "\n",
    "# For computing the mean, use the training only!\n",
    "# Use the validation dataset to evaluate the models and compare the RMSE of each option.\n",
    "# Round the RMSE scores to 2 decimal digits using round(score, 2)\n",
    "X_val_mean = df_val.drop(columns=[\"fuel_efficiency_mpg\"]).fillna(mean_horsepower).values\n",
    "y_val_pred = w0 + X_val_mean.dot(w)\n",
    "val_rmse_mean = rmse(y_val, y_val_pred)\n",
    "\n",
    "# Round the RMSE score to 2 decimal digits\n",
    "val_rmse_mean = round(val_rmse_mean, 2)\n",
    "\n",
    "print(f\"Validation Data RMSE (fill missing with mean): {val_rmse_mean}\")"
   ],
   "id": "9f1334c1e01ad34f",
   "outputs": [
    {
     "name": "stdout",
     "output_type": "stream",
     "text": [
      "Training Data RMSE (fill missing with mean): 0.04\n",
      "Validation Data RMSE (fill missing with mean): 0.04\n"
     ]
    }
   ],
   "execution_count": 57
  },
  {
   "metadata": {},
   "cell_type": "markdown",
   "source": [
    "**Observations:**\n",
    "- Both methods to handle missing values give similar RMSE on the training set and the value is approx 0.04"
   ],
   "id": "ee058570cf84cdd1"
  },
  {
   "metadata": {},
   "cell_type": "markdown",
   "source": "### Question 4",
   "id": "3388af0befee835c"
  },
  {
   "metadata": {
    "ExecuteTime": {
     "end_time": "2025-10-08T18:13:25.791117Z",
     "start_time": "2025-10-08T18:13:25.787207Z"
    }
   },
   "cell_type": "code",
   "source": [
    "# function to train regularized linear regression model\n",
    "def train_linear_regression_reg(X, y, r_val):\n",
    "    ones = np.ones(X.shape[0])\n",
    "    X = np.column_stack([ones, X])\n",
    "\n",
    "    XTX = X.T.dot(X)\n",
    "    XTX = XTX + r_val * np.eye(XTX.shape[0])\n",
    "\n",
    "    XTX_inv = np.linalg.inv(XTX)\n",
    "    w_full = XTX_inv.dot(X.T).dot(y)\n",
    "\n",
    "    return w_full[0], w_full[1:]"
   ],
   "id": "384da69ae3951ca0",
   "outputs": [],
   "execution_count": 58
  },
  {
   "metadata": {
    "ExecuteTime": {
     "end_time": "2025-10-08T18:14:14.906548Z",
     "start_time": "2025-10-08T18:14:14.902482Z"
    }
   },
   "cell_type": "code",
   "source": [
    "# Now let's train a regularized linear regression.\n",
    "# For this question, fill the NAs with 0.\n",
    "# Try different values of r from this list: [0, 0.01, 0.1, 1, 5, 10, 100].\n",
    "# Use RMSE to evaluate the model on the validation dataset.\n",
    "# Round the RMSE scores to 2 decimal digits.\n",
    "# Which r gives the best RMSE?\n",
    "X_train_zeros = df_train.drop(columns=[\"fuel_efficiency_mpg\"]).fillna(0).values\n",
    "X_val_zeros = df_val.drop(columns=[\"fuel_efficiency_mpg\"]).fillna(0).values\n",
    "\n",
    "# values of r to try\n",
    "r_values = [0, 0.01, 0.1, 1, 5, 10, 100]\n",
    "results = []\n",
    "\n",
    "# For each value of r, train the model and evaluate on the validation set\n",
    "for r in r_values:\n",
    "    w0, w = train_linear_regression_reg(X_train_zeros, y_train, r)\n",
    "    y_val_pred = w0 + X_val_zeros.dot(w)\n",
    "    val_rmse = rmse(y_val, y_val_pred)\n",
    "    val_rmse = round(val_rmse, 2)\n",
    "    results.append((r, val_rmse))\n",
    "\n",
    "# print the results\n",
    "for r, score in results:\n",
    "    print(f\"r: {r}, Validation Data RMSE: {score}\")"
   ],
   "id": "4e6fc588cde6e13c",
   "outputs": [
    {
     "name": "stdout",
     "output_type": "stream",
     "text": [
      "r: 0, Validation Data RMSE: 0.04\n",
      "r: 0.01, Validation Data RMSE: 0.04\n",
      "r: 0.1, Validation Data RMSE: 0.04\n",
      "r: 1, Validation Data RMSE: 0.04\n",
      "r: 5, Validation Data RMSE: 0.04\n",
      "r: 10, Validation Data RMSE: 0.04\n",
      "r: 100, Validation Data RMSE: 0.04\n"
     ]
    }
   ],
   "execution_count": 60
  },
  {
   "metadata": {},
   "cell_type": "markdown",
   "source": [
    "**Observations:**\n",
    "- The 'RMSE' value remains at 0.04 for all values of 'r'\n",
    "- So 0 is the smallest value for 'r' as it is the lowest regularization"
   ],
   "id": "e6cce215eed7d634"
  },
  {
   "metadata": {},
   "cell_type": "markdown",
   "source": "### Question 5",
   "id": "11e356e575720818"
  },
  {
   "metadata": {
    "ExecuteTime": {
     "end_time": "2025-10-08T18:19:41.978358Z",
     "start_time": "2025-10-08T18:19:41.964217Z"
    }
   },
   "cell_type": "code",
   "source": [
    "# We used seed 42 for splitting the data. Let's find out how selecting the seed influences our score.\n",
    "# Try different seed values: [0, 1, 2, 3, 4, 5, 6, 7, 8, 9].\n",
    "\n",
    "seeds = list(range(10))\n",
    "rmse_scores = []\n",
    "\n",
    "# For each seed, do the train/validation/test split with 60%/20%/20% distribution.\n",
    "for seed in seeds:\n",
    "    idx = np.arange(n)\n",
    "    np.random.seed(seed)\n",
    "    np.random.shuffle(idx)\n",
    "\n",
    "    df_train = df.iloc[idx[:n_train]]\n",
    "    df_val = df.iloc[idx[n_train:n_train + n_val]]\n",
    "\n",
    "    # Fill the missing values with 0 and train a model without regularization.\n",
    "    X_train_zeros = df_train.drop(columns=[\"fuel_efficiency_mpg\"]).fillna(0).values\n",
    "    y_train = np.log1p(df_train.fuel_efficiency_mpg.values)\n",
    "    w0, w = train_linear_regression(X_train_zeros, y_train)\n",
    "\n",
    "    # For each seed, evaluate the model on the validation dataset and collect the RMSE scores.\n",
    "    X_val_zeros = df_val.drop(columns=[\"fuel_efficiency_mpg\"]).fillna(0).values\n",
    "    y_val = np.log1p(df_val.fuel_efficiency_mpg.values)\n",
    "    y_val_pred = w0 + X_val_zeros.dot(w)\n",
    "    val_rmse = rmse(y_val, y_val_pred)\n",
    "    rmse_scores.append(val_rmse)\n",
    "\n",
    "# What's the standard deviation of all the scores? To compute the standard deviation, use np.std.\n",
    "std_rmse = np.std(rmse_scores)\n",
    "\n",
    "# Round the result to 3 decimal digits (round(std, 3))\n",
    "std_rmse = round(std_rmse, 3)\n",
    "print(f\"Standard Deviation of RMSE scores: {std_rmse}\")\n"
   ],
   "id": "2a0ade84c26d7c82",
   "outputs": [
    {
     "name": "stdout",
     "output_type": "stream",
     "text": [
      "Standard Deviation of RMSE scores: 0.001\n"
     ]
    }
   ],
   "execution_count": 61
  },
  {
   "metadata": {},
   "cell_type": "markdown",
   "source": "### Question 6",
   "id": "4ebdde10ee3a55bd"
  },
  {
   "metadata": {
    "ExecuteTime": {
     "end_time": "2025-10-08T18:23:30.678073Z",
     "start_time": "2025-10-08T18:23:30.673835Z"
    }
   },
   "cell_type": "code",
   "source": [
    "# Split the dataset like previously, use seed 9.\n",
    "# Combine train and validation datasets.\n",
    "# Fill the missing values with 0 and train a model with r=0.001.\n",
    "# What's the RMSE on the test dataset?\n",
    "seed = 9\n",
    "idx = np.arange(n)\n",
    "np.random.shuffle(idx)\n",
    "np.random.seed(seed)\n",
    "\n",
    "n_train_val = n_train + n_val\n",
    "df_train = df.iloc[idx[:n_train_val]]\n",
    "df_test = df.iloc[idx[n_train_val:]]\n",
    "\n",
    "X_train_zeros = df_train.drop(columns=[\"fuel_efficiency_mpg\"]).fillna(0).values\n",
    "y_train = np.log1p(df_train.fuel_efficiency_mpg.values)\n",
    "w0, w = train_linear_regression_reg(X_train_zeros, y_train, 0.001)\n",
    "\n",
    "X_test_zeros = df_test.drop(columns=[\"fuel_efficiency_mpg\"]).fillna(0).values\n",
    "y_test = np.log1p(df_test.fuel_efficiency_mpg.values)\n",
    "\n",
    "y_test_pred = w0 + X_test_zeros.dot(w)\n",
    "test_rmse = rmse(y_test, y_test_pred)\n",
    "\n",
    "# Round the result to 4 decimal digits (round(rmse, 2))]\n",
    "test_rmse = round(test_rmse, 2)\n",
    "print(f\"Test Data RMSE: {test_rmse}\")"
   ],
   "id": "8ef1d31a4db1f4aa",
   "outputs": [
    {
     "name": "stdout",
     "output_type": "stream",
     "text": [
      "Test Data RMSE: 0.04\n"
     ]
    }
   ],
   "execution_count": 68
  },
  {
   "metadata": {},
   "cell_type": "markdown",
   "source": "**Note :** closest value of 0.15 selected to the obtained value of 0.04",
   "id": "861815609a87d56f"
  },
  {
   "metadata": {},
   "cell_type": "code",
   "outputs": [],
   "execution_count": null,
   "source": "",
   "id": "2fa4abd95daccc5f"
  }
 ],
 "metadata": {
  "kernelspec": {
   "display_name": "Python 3",
   "language": "python",
   "name": "python3"
  },
  "language_info": {
   "codemirror_mode": {
    "name": "ipython",
    "version": 2
   },
   "file_extension": ".py",
   "mimetype": "text/x-python",
   "name": "python",
   "nbconvert_exporter": "python",
   "pygments_lexer": "ipython2",
   "version": "2.7.6"
  }
 },
 "nbformat": 4,
 "nbformat_minor": 5
}
