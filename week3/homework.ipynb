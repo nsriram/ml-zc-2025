{
 "cells": [
  {
   "cell_type": "code",
   "id": "initial_id",
   "metadata": {
    "collapsed": true,
    "ExecuteTime": {
     "end_time": "2025-10-13T19:07:05.872553Z",
     "start_time": "2025-10-13T19:07:04.852216Z"
    }
   },
   "source": [
    "import pandas as pd\n",
    "import numpy as np\n",
    "\n",
    "import matplotlib.pyplot as plt\n",
    "from sklearn.model_selection import train_test_split\n",
    "from sklearn.metrics import mutual_info_score\n",
    "from sklearn.feature_extraction import DictVectorizer\n",
    "from sklearn.linear_model import LogisticRegression\n",
    "\n",
    "# import display function to display dataframes\n",
    "from IPython.display import display"
   ],
   "outputs": [],
   "execution_count": 1
  },
  {
   "metadata": {
    "ExecuteTime": {
     "end_time": "2025-10-13T19:07:06.148324Z",
     "start_time": "2025-10-13T19:07:05.953512Z"
    }
   },
   "cell_type": "code",
   "source": "!wget https://raw.githubusercontent.com/alexeygrigorev/datasets/master/course_lead_scoring.csv",
   "id": "141bbd237626ed4f",
   "outputs": [
    {
     "name": "stdout",
     "output_type": "stream",
     "text": [
      "--2025-10-14 00:37:05--  https://raw.githubusercontent.com/alexeygrigorev/datasets/master/course_lead_scoring.csv\r\n",
      "Resolving raw.githubusercontent.com (raw.githubusercontent.com)... 185.199.111.133, 185.199.108.133, 185.199.109.133, ...\r\n",
      "Connecting to raw.githubusercontent.com (raw.githubusercontent.com)|185.199.111.133|:443... connected.\r\n",
      "HTTP request sent, awaiting response... 200 OK\r\n",
      "Length: 80876 (79K) [text/plain]\r\n",
      "Saving to: ‘course_lead_scoring.csv’\r\n",
      "\r\n",
      "course_lead_scoring 100%[===================>]  78.98K  --.-KB/s    in 0.009s  \r\n",
      "\r\n",
      "2025-10-14 00:37:06 (8.15 MB/s) - ‘course_lead_scoring.csv’ saved [80876/80876]\r\n",
      "\r\n"
     ]
    }
   ],
   "execution_count": 2
  },
  {
   "metadata": {
    "ExecuteTime": {
     "end_time": "2025-10-13T19:07:06.172367Z",
     "start_time": "2025-10-13T19:07:06.158713Z"
    }
   },
   "cell_type": "code",
   "source": [
    "df = pd.read_csv('course_lead_scoring.csv')\n",
    "df.head()"
   ],
   "id": "df481b29fa2e7a80",
   "outputs": [
    {
     "data": {
      "text/plain": [
       "    lead_source    industry  number_of_courses_viewed  annual_income  \\\n",
       "0      paid_ads         NaN                         1        79450.0   \n",
       "1  social_media      retail                         1        46992.0   \n",
       "2        events  healthcare                         5        78796.0   \n",
       "3      paid_ads      retail                         2        83843.0   \n",
       "4      referral   education                         3        85012.0   \n",
       "\n",
       "  employment_status       location  interaction_count  lead_score  converted  \n",
       "0        unemployed  south_america                  4        0.94          1  \n",
       "1          employed  south_america                  1        0.80          0  \n",
       "2        unemployed      australia                  3        0.69          1  \n",
       "3               NaN      australia                  1        0.87          0  \n",
       "4     self_employed         europe                  3        0.62          1  "
      ],
      "text/html": [
       "<div>\n",
       "<style scoped>\n",
       "    .dataframe tbody tr th:only-of-type {\n",
       "        vertical-align: middle;\n",
       "    }\n",
       "\n",
       "    .dataframe tbody tr th {\n",
       "        vertical-align: top;\n",
       "    }\n",
       "\n",
       "    .dataframe thead th {\n",
       "        text-align: right;\n",
       "    }\n",
       "</style>\n",
       "<table border=\"1\" class=\"dataframe\">\n",
       "  <thead>\n",
       "    <tr style=\"text-align: right;\">\n",
       "      <th></th>\n",
       "      <th>lead_source</th>\n",
       "      <th>industry</th>\n",
       "      <th>number_of_courses_viewed</th>\n",
       "      <th>annual_income</th>\n",
       "      <th>employment_status</th>\n",
       "      <th>location</th>\n",
       "      <th>interaction_count</th>\n",
       "      <th>lead_score</th>\n",
       "      <th>converted</th>\n",
       "    </tr>\n",
       "  </thead>\n",
       "  <tbody>\n",
       "    <tr>\n",
       "      <th>0</th>\n",
       "      <td>paid_ads</td>\n",
       "      <td>NaN</td>\n",
       "      <td>1</td>\n",
       "      <td>79450.0</td>\n",
       "      <td>unemployed</td>\n",
       "      <td>south_america</td>\n",
       "      <td>4</td>\n",
       "      <td>0.94</td>\n",
       "      <td>1</td>\n",
       "    </tr>\n",
       "    <tr>\n",
       "      <th>1</th>\n",
       "      <td>social_media</td>\n",
       "      <td>retail</td>\n",
       "      <td>1</td>\n",
       "      <td>46992.0</td>\n",
       "      <td>employed</td>\n",
       "      <td>south_america</td>\n",
       "      <td>1</td>\n",
       "      <td>0.80</td>\n",
       "      <td>0</td>\n",
       "    </tr>\n",
       "    <tr>\n",
       "      <th>2</th>\n",
       "      <td>events</td>\n",
       "      <td>healthcare</td>\n",
       "      <td>5</td>\n",
       "      <td>78796.0</td>\n",
       "      <td>unemployed</td>\n",
       "      <td>australia</td>\n",
       "      <td>3</td>\n",
       "      <td>0.69</td>\n",
       "      <td>1</td>\n",
       "    </tr>\n",
       "    <tr>\n",
       "      <th>3</th>\n",
       "      <td>paid_ads</td>\n",
       "      <td>retail</td>\n",
       "      <td>2</td>\n",
       "      <td>83843.0</td>\n",
       "      <td>NaN</td>\n",
       "      <td>australia</td>\n",
       "      <td>1</td>\n",
       "      <td>0.87</td>\n",
       "      <td>0</td>\n",
       "    </tr>\n",
       "    <tr>\n",
       "      <th>4</th>\n",
       "      <td>referral</td>\n",
       "      <td>education</td>\n",
       "      <td>3</td>\n",
       "      <td>85012.0</td>\n",
       "      <td>self_employed</td>\n",
       "      <td>europe</td>\n",
       "      <td>3</td>\n",
       "      <td>0.62</td>\n",
       "      <td>1</td>\n",
       "    </tr>\n",
       "  </tbody>\n",
       "</table>\n",
       "</div>"
      ]
     },
     "execution_count": 3,
     "metadata": {},
     "output_type": "execute_result"
    }
   ],
   "execution_count": 3
  },
  {
   "metadata": {
    "ExecuteTime": {
     "end_time": "2025-10-13T19:07:06.447500Z",
     "start_time": "2025-10-13T19:07:06.441785Z"
    }
   },
   "cell_type": "code",
   "source": "df.head().T",
   "id": "af657068f864770f",
   "outputs": [
    {
     "data": {
      "text/plain": [
       "                                      0              1           2          3  \\\n",
       "lead_source                    paid_ads   social_media      events   paid_ads   \n",
       "industry                            NaN         retail  healthcare     retail   \n",
       "number_of_courses_viewed              1              1           5          2   \n",
       "annual_income                   79450.0        46992.0     78796.0    83843.0   \n",
       "employment_status            unemployed       employed  unemployed        NaN   \n",
       "location                  south_america  south_america   australia  australia   \n",
       "interaction_count                     4              1           3          1   \n",
       "lead_score                         0.94            0.8        0.69       0.87   \n",
       "converted                             1              0           1          0   \n",
       "\n",
       "                                      4  \n",
       "lead_source                    referral  \n",
       "industry                      education  \n",
       "number_of_courses_viewed              3  \n",
       "annual_income                   85012.0  \n",
       "employment_status         self_employed  \n",
       "location                         europe  \n",
       "interaction_count                     3  \n",
       "lead_score                         0.62  \n",
       "converted                             1  "
      ],
      "text/html": [
       "<div>\n",
       "<style scoped>\n",
       "    .dataframe tbody tr th:only-of-type {\n",
       "        vertical-align: middle;\n",
       "    }\n",
       "\n",
       "    .dataframe tbody tr th {\n",
       "        vertical-align: top;\n",
       "    }\n",
       "\n",
       "    .dataframe thead th {\n",
       "        text-align: right;\n",
       "    }\n",
       "</style>\n",
       "<table border=\"1\" class=\"dataframe\">\n",
       "  <thead>\n",
       "    <tr style=\"text-align: right;\">\n",
       "      <th></th>\n",
       "      <th>0</th>\n",
       "      <th>1</th>\n",
       "      <th>2</th>\n",
       "      <th>3</th>\n",
       "      <th>4</th>\n",
       "    </tr>\n",
       "  </thead>\n",
       "  <tbody>\n",
       "    <tr>\n",
       "      <th>lead_source</th>\n",
       "      <td>paid_ads</td>\n",
       "      <td>social_media</td>\n",
       "      <td>events</td>\n",
       "      <td>paid_ads</td>\n",
       "      <td>referral</td>\n",
       "    </tr>\n",
       "    <tr>\n",
       "      <th>industry</th>\n",
       "      <td>NaN</td>\n",
       "      <td>retail</td>\n",
       "      <td>healthcare</td>\n",
       "      <td>retail</td>\n",
       "      <td>education</td>\n",
       "    </tr>\n",
       "    <tr>\n",
       "      <th>number_of_courses_viewed</th>\n",
       "      <td>1</td>\n",
       "      <td>1</td>\n",
       "      <td>5</td>\n",
       "      <td>2</td>\n",
       "      <td>3</td>\n",
       "    </tr>\n",
       "    <tr>\n",
       "      <th>annual_income</th>\n",
       "      <td>79450.0</td>\n",
       "      <td>46992.0</td>\n",
       "      <td>78796.0</td>\n",
       "      <td>83843.0</td>\n",
       "      <td>85012.0</td>\n",
       "    </tr>\n",
       "    <tr>\n",
       "      <th>employment_status</th>\n",
       "      <td>unemployed</td>\n",
       "      <td>employed</td>\n",
       "      <td>unemployed</td>\n",
       "      <td>NaN</td>\n",
       "      <td>self_employed</td>\n",
       "    </tr>\n",
       "    <tr>\n",
       "      <th>location</th>\n",
       "      <td>south_america</td>\n",
       "      <td>south_america</td>\n",
       "      <td>australia</td>\n",
       "      <td>australia</td>\n",
       "      <td>europe</td>\n",
       "    </tr>\n",
       "    <tr>\n",
       "      <th>interaction_count</th>\n",
       "      <td>4</td>\n",
       "      <td>1</td>\n",
       "      <td>3</td>\n",
       "      <td>1</td>\n",
       "      <td>3</td>\n",
       "    </tr>\n",
       "    <tr>\n",
       "      <th>lead_score</th>\n",
       "      <td>0.94</td>\n",
       "      <td>0.8</td>\n",
       "      <td>0.69</td>\n",
       "      <td>0.87</td>\n",
       "      <td>0.62</td>\n",
       "    </tr>\n",
       "    <tr>\n",
       "      <th>converted</th>\n",
       "      <td>1</td>\n",
       "      <td>0</td>\n",
       "      <td>1</td>\n",
       "      <td>0</td>\n",
       "      <td>1</td>\n",
       "    </tr>\n",
       "  </tbody>\n",
       "</table>\n",
       "</div>"
      ]
     },
     "execution_count": 4,
     "metadata": {},
     "output_type": "execute_result"
    }
   ],
   "execution_count": 4
  },
  {
   "metadata": {
    "ExecuteTime": {
     "end_time": "2025-10-13T19:07:11.141497Z",
     "start_time": "2025-10-13T19:07:11.135159Z"
    }
   },
   "cell_type": "code",
   "source": [
    "# Data types\n",
    "df.dtypes"
   ],
   "id": "edbb9c8fb4473634",
   "outputs": [
    {
     "data": {
      "text/plain": [
       "lead_source                  object\n",
       "industry                     object\n",
       "number_of_courses_viewed      int64\n",
       "annual_income               float64\n",
       "employment_status            object\n",
       "location                     object\n",
       "interaction_count             int64\n",
       "lead_score                  float64\n",
       "converted                     int64\n",
       "dtype: object"
      ]
     },
     "execution_count": 5,
     "metadata": {},
     "output_type": "execute_result"
    }
   ],
   "execution_count": 5
  },
  {
   "metadata": {
    "ExecuteTime": {
     "end_time": "2025-10-13T19:07:12.936109Z",
     "start_time": "2025-10-13T19:07:12.930425Z"
    }
   },
   "cell_type": "code",
   "source": [
    "# Data preparation\n",
    "# Check if the missing values are presented in the features.\n",
    "df.isnull().sum()"
   ],
   "id": "b3483457fa0ac943",
   "outputs": [
    {
     "data": {
      "text/plain": [
       "lead_source                 128\n",
       "industry                    134\n",
       "number_of_courses_viewed      0\n",
       "annual_income               181\n",
       "employment_status           100\n",
       "location                     63\n",
       "interaction_count             0\n",
       "lead_score                    0\n",
       "converted                     0\n",
       "dtype: int64"
      ]
     },
     "execution_count": 6,
     "metadata": {},
     "output_type": "execute_result"
    }
   ],
   "execution_count": 6
  },
  {
   "metadata": {
    "ExecuteTime": {
     "end_time": "2025-10-13T19:07:14.288123Z",
     "start_time": "2025-10-13T19:07:14.280588Z"
    }
   },
   "cell_type": "code",
   "source": [
    "# If there are missing values:\n",
    "# For categorical features, replace them with 'NA' i.e., lead_source, industry, employment_status, location columns\n",
    "# For numerical features, replace with with 0.0 i.e., annual_income columns\n",
    "categorical_features_with_na = ['lead_source', 'industry', 'employment_status', 'location']\n",
    "\n",
    "for column in categorical_features_with_na:\n",
    "    df[column] = df[column].fillna('NA')\n",
    "\n",
    "numerical_features_with_na = ['annual_income']\n",
    "for column in numerical_features_with_na:\n",
    "    df[column] = df[column].fillna(0.0)\n"
   ],
   "id": "575c2c35bfa556a3",
   "outputs": [],
   "execution_count": 7
  },
  {
   "metadata": {
    "ExecuteTime": {
     "end_time": "2025-10-13T19:11:22.464006Z",
     "start_time": "2025-10-13T19:11:22.459275Z"
    }
   },
   "cell_type": "code",
   "source": [
    "# verify nulls\n",
    "df.isnull().sum()"
   ],
   "id": "e1eea854cfd4bd83",
   "outputs": [
    {
     "data": {
      "text/plain": [
       "lead_source                 0\n",
       "industry                    0\n",
       "number_of_courses_viewed    0\n",
       "annual_income               0\n",
       "employment_status           0\n",
       "location                    0\n",
       "interaction_count           0\n",
       "lead_score                  0\n",
       "converted                   0\n",
       "dtype: int64"
      ]
     },
     "execution_count": 22,
     "metadata": {},
     "output_type": "execute_result"
    }
   ],
   "execution_count": 22
  },
  {
   "metadata": {
    "ExecuteTime": {
     "end_time": "2025-10-13T19:10:55.831281Z",
     "start_time": "2025-10-13T19:10:55.828199Z"
    }
   },
   "cell_type": "code",
   "source": [
    "numerical = ['number_of_courses_viewed', 'annual_income', 'interaction_count', 'lead_score', ]\n",
    "categorical = ['lead_source', 'industry', 'employment_status', 'location']"
   ],
   "id": "cf98d185b97c4344",
   "outputs": [],
   "execution_count": 18
  },
  {
   "metadata": {},
   "cell_type": "markdown",
   "source": "# Question 1",
   "id": "949c89b2ec80497e"
  },
  {
   "metadata": {
    "ExecuteTime": {
     "end_time": "2025-10-13T19:11:27.060957Z",
     "start_time": "2025-10-13T19:11:27.055667Z"
    }
   },
   "cell_type": "code",
   "source": [
    "# What is the most frequent observation (mode) for the column industry?\n",
    "df['industry'].mode()[0]"
   ],
   "id": "6f6b4907c8f59a64",
   "outputs": [
    {
     "data": {
      "text/plain": [
       "'retail'"
      ]
     },
     "execution_count": 23,
     "metadata": {},
     "output_type": "execute_result"
    }
   ],
   "execution_count": 23
  },
  {
   "metadata": {},
   "cell_type": "markdown",
   "source": "# Question 2",
   "id": "e1c511f43e9c6167"
  },
  {
   "metadata": {
    "ExecuteTime": {
     "end_time": "2025-10-13T19:11:28.997556Z",
     "start_time": "2025-10-13T19:11:28.990834Z"
    }
   },
   "cell_type": "code",
   "source": [
    "# Create the correlation matrix for the numerical features of your dataset.\n",
    "# In a correlation matrix, you compute the correlation coefficient between every pair of features.\n",
    "df[numerical].corr()"
   ],
   "id": "f12fa6dc22e87074",
   "outputs": [
    {
     "data": {
      "text/plain": [
       "                          number_of_courses_viewed  annual_income  \\\n",
       "number_of_courses_viewed                  1.000000       0.009770   \n",
       "annual_income                             0.009770       1.000000   \n",
       "interaction_count                        -0.023565       0.027036   \n",
       "lead_score                               -0.004879       0.015610   \n",
       "\n",
       "                          interaction_count  lead_score  \n",
       "number_of_courses_viewed          -0.023565   -0.004879  \n",
       "annual_income                      0.027036    0.015610  \n",
       "interaction_count                  1.000000    0.009888  \n",
       "lead_score                         0.009888    1.000000  "
      ],
      "text/html": [
       "<div>\n",
       "<style scoped>\n",
       "    .dataframe tbody tr th:only-of-type {\n",
       "        vertical-align: middle;\n",
       "    }\n",
       "\n",
       "    .dataframe tbody tr th {\n",
       "        vertical-align: top;\n",
       "    }\n",
       "\n",
       "    .dataframe thead th {\n",
       "        text-align: right;\n",
       "    }\n",
       "</style>\n",
       "<table border=\"1\" class=\"dataframe\">\n",
       "  <thead>\n",
       "    <tr style=\"text-align: right;\">\n",
       "      <th></th>\n",
       "      <th>number_of_courses_viewed</th>\n",
       "      <th>annual_income</th>\n",
       "      <th>interaction_count</th>\n",
       "      <th>lead_score</th>\n",
       "    </tr>\n",
       "  </thead>\n",
       "  <tbody>\n",
       "    <tr>\n",
       "      <th>number_of_courses_viewed</th>\n",
       "      <td>1.000000</td>\n",
       "      <td>0.009770</td>\n",
       "      <td>-0.023565</td>\n",
       "      <td>-0.004879</td>\n",
       "    </tr>\n",
       "    <tr>\n",
       "      <th>annual_income</th>\n",
       "      <td>0.009770</td>\n",
       "      <td>1.000000</td>\n",
       "      <td>0.027036</td>\n",
       "      <td>0.015610</td>\n",
       "    </tr>\n",
       "    <tr>\n",
       "      <th>interaction_count</th>\n",
       "      <td>-0.023565</td>\n",
       "      <td>0.027036</td>\n",
       "      <td>1.000000</td>\n",
       "      <td>0.009888</td>\n",
       "    </tr>\n",
       "    <tr>\n",
       "      <th>lead_score</th>\n",
       "      <td>-0.004879</td>\n",
       "      <td>0.015610</td>\n",
       "      <td>0.009888</td>\n",
       "      <td>1.000000</td>\n",
       "    </tr>\n",
       "  </tbody>\n",
       "</table>\n",
       "</div>"
      ]
     },
     "execution_count": 24,
     "metadata": {},
     "output_type": "execute_result"
    }
   ],
   "execution_count": 24
  },
  {
   "metadata": {},
   "cell_type": "markdown",
   "source": "# Split the data",
   "id": "5298376332ddeb6"
  },
  {
   "metadata": {
    "ExecuteTime": {
     "end_time": "2025-10-13T19:11:41.021837Z",
     "start_time": "2025-10-13T19:11:41.013181Z"
    }
   },
   "cell_type": "code",
   "source": [
    "# Split your data in train/val/test sets with 60%/20%/20% distribution.\n",
    "# Use Scikit-Learn for that (the train_test_split function) and set the seed to 42.\n",
    "\n",
    "df_full_train, df_test = train_test_split(df, test_size=0.2, random_state=42)\n",
    "df_train, df_val = train_test_split(df_full_train, test_size=0.25, random_state=42)\n",
    "\n",
    "df_train = df_train.reset_index(drop=True)\n",
    "df_val = df_val.reset_index(drop=True)\n",
    "df_test = df_test.reset_index(drop=True)\n",
    "\n",
    "# Make sure that the target value converted is not in your dataframe.\n",
    "y_train = df_train['converted']\n",
    "y_val = df_val['converted']\n",
    "y_test = df_test['converted']\n",
    "\n",
    "del df_train['converted']\n",
    "del df_val['converted']\n",
    "del df_test['converted']\n",
    "\n",
    "print(\"df_train : \", len(df_train))\n",
    "print(\"y_train : \", len(y_train))\n",
    "\n",
    "print(\"df_val: \", len(df_val))\n",
    "print(\"y_val: \", len(y_val))\n",
    "\n",
    "print(\"df_test : \", len(df_test))\n",
    "print(\"y_test :\", len(y_test))\n"
   ],
   "id": "a06046b4eb5a1901",
   "outputs": [
    {
     "name": "stdout",
     "output_type": "stream",
     "text": [
      "df_train :  876\n",
      "y_train :  876\n",
      "df_val:  293\n",
      "y_val:  293\n",
      "df_test :  293\n",
      "y_test : 293\n"
     ]
    }
   ],
   "execution_count": 25
  },
  {
   "metadata": {},
   "cell_type": "markdown",
   "source": "# Question 3",
   "id": "5551ff295b0f5b24"
  },
  {
   "metadata": {
    "ExecuteTime": {
     "end_time": "2025-10-13T19:13:06.693064Z",
     "start_time": "2025-10-13T19:13:06.680311Z"
    }
   },
   "cell_type": "code",
   "source": [
    "# Calculate the mutual information score between converted and other categorical variables in the dataset. Use the training set only.\n",
    "# Round the scores to 2 decimals using round(score, 2).\n",
    "def mutual_info_converted_score(series):\n",
    "    return mutual_info_score(series, y_train)\n",
    "\n",
    "score = df_train[categorical].apply(mutual_info_converted_score)\n",
    "score.sort_values(ascending=False)\n",
    "\n",
    "round(score, 2)"
   ],
   "id": "8e220275305d5d6f",
   "outputs": [
    {
     "data": {
      "text/plain": [
       "lead_source          0.04\n",
       "industry             0.01\n",
       "employment_status    0.01\n",
       "location             0.00\n",
       "dtype: float64"
      ]
     },
     "execution_count": 28,
     "metadata": {},
     "output_type": "execute_result"
    }
   ],
   "execution_count": 28
  },
  {
   "metadata": {},
   "cell_type": "markdown",
   "source": "# Question 4",
   "id": "3dc314256852d41d"
  },
  {
   "metadata": {
    "ExecuteTime": {
     "end_time": "2025-10-13T18:47:01.213110Z",
     "start_time": "2025-10-13T18:47:01.203107Z"
    }
   },
   "cell_type": "code",
   "source": [
    "# Now let's train a logistic regression.\n",
    "# Remember that we have several categorical variables in the dataset. Include them using one-hot encoding.\n",
    "# Fit the model on the training dataset.\n",
    "## To make sure the results are reproducible across different versions of Scikit-Learn, fit the model with these parameters:\n",
    "# `model = LogisticRegression(solver='liblinear', C=1.0, max_iter=1000, random_state=42)`\n",
    "# Calculate the accuracy on the validation dataset and round it to 2 decimal digits.\n",
    "\n",
    "dv = DictVectorizer(sparse=False)\n",
    "# create the training matrix\n",
    "train_dict = df_train[categorical + numerical].to_dict(orient='records')\n",
    "X_train = dv.fit_transform(train_dict)\n",
    "\n",
    "# create the model\n",
    "model = LogisticRegression(solver='liblinear', C=1.0, max_iter=1000, random_state=42)\n",
    "\n",
    "# Train the model\n",
    "model.fit(X_train, y_train)\n",
    "\n",
    "# create the validation matrix\n",
    "val_dict = df_val[categorical + numerical].to_dict(orient='records')\n",
    "X_val = dv.transform(val_dict)\n",
    "\n",
    "# predict the validation set\n",
    "y_pred = model.predict(X_val)\n",
    "\n",
    "converted_decision = (y_pred >= 0.5)\n",
    "accuracy = (converted_decision == y_val).mean()\n",
    "print(\"Accuracy, rounded off : \", round(accuracy, 2))"
   ],
   "id": "374baeba9834bcd2",
   "outputs": [
    {
     "name": "stdout",
     "output_type": "stream",
     "text": [
      "Accuracy, rounded off :  0.7\n"
     ]
    }
   ],
   "execution_count": 33
  },
  {
   "metadata": {},
   "cell_type": "markdown",
   "source": "# Question 5",
   "id": "662b78d1f0bcb771"
  },
  {
   "metadata": {
    "ExecuteTime": {
     "end_time": "2025-10-13T19:03:56.317887Z",
     "start_time": "2025-10-13T19:03:56.266423Z"
    }
   },
   "cell_type": "code",
   "source": [
    "# Let's find the least useful feature using the feature elimination technique.\n",
    "# Train a model using the same features and parameters as in Q4 (without rounding).\n",
    "# Now exclude each feature from this set and train a model without it. Record the accuracy for each model.\n",
    "# For each feature, calculate the difference between the original accuracy and the accuracy without the feature.\n",
    "# Which feature has the smallest difference ? Note: The difference doesn't have to be positive.\n",
    "features = categorical + numerical\n",
    "# original accuracy\n",
    "original_accuracy = accuracy\n",
    "feature_to_remove = None\n",
    "min_difference = float('inf')\n",
    "for feature in features:\n",
    "    # create a list of features excluding the current feature\n",
    "    features_subset = [f for f in features if f != feature]\n",
    "\n",
    "    # create the training matrix without the current feature\n",
    "    train_dict = df_train[features_subset].to_dict(orient='records')\n",
    "    X_train = dv.fit_transform(train_dict)\n",
    "\n",
    "    # create and train the model\n",
    "    q5_model = LogisticRegression(solver='liblinear', C=1.0, max_iter=1000, random_state=42)\n",
    "    q5_model.fit(X_train, y_train)\n",
    "\n",
    "    # create the validation matrix without the current feature\n",
    "    val_dict = df_val[features_subset].to_dict(orient='records')\n",
    "    X_val = dv.transform(val_dict)\n",
    "\n",
    "    # predict the validation set\n",
    "    y_pred = q5_model.predict(X_val)\n",
    "\n",
    "    converted_decision = (y_pred >= 0.5)\n",
    "    accuracy = (converted_decision == y_val).mean()\n",
    "    print(f\"Accuracy without {feature} : \", accuracy)\n",
    "\n",
    "    difference = np.abs(original_accuracy - accuracy)\n",
    "\n",
    "    if difference < min_difference:\n",
    "        min_difference = difference\n",
    "        feature_to_remove = feature\n",
    "\n",
    "print(\"----\")\n",
    "print(\"Feature with smallest difference: \", feature_to_remove)"
   ],
   "id": "f73069a058a20845",
   "outputs": [
    {
     "name": "stdout",
     "output_type": "stream",
     "text": [
      "Accuracy without lead_source :  0.7030716723549488\n",
      "Accuracy without industry :  0.6996587030716723\n",
      "Accuracy without employment_status :  0.6962457337883959\n",
      "Accuracy without location :  0.7098976109215017\n",
      "Accuracy without number_of_courses_viewed :  0.5563139931740614\n",
      "Accuracy without annual_income :  0.8532423208191127\n",
      "Accuracy without interaction_count :  0.5563139931740614\n",
      "Accuracy without lead_score :  0.7064846416382252\n",
      "----\n",
      "Feature with smallest difference:  lead_score\n"
     ]
    }
   ],
   "execution_count": 49
  },
  {
   "metadata": {},
   "cell_type": "markdown",
   "source": "# Question 6",
   "id": "cfc8b925a74a5f25"
  },
  {
   "metadata": {
    "ExecuteTime": {
     "end_time": "2025-10-13T19:16:06.979877Z",
     "start_time": "2025-10-13T19:16:06.936184Z"
    }
   },
   "cell_type": "code",
   "source": [
    "# Now let's train a regularized logistic regression.\n",
    "# Let's try the following values of the parameter C: [0.01, 0.1, 1, 10, 100].\n",
    "# Train models using all the features as in Q4.\n",
    "# Calculate the accuracy on the validation dataset and round it to 3 decimal digits.\n",
    "# Which value of C gives the best accuracy on the validation dataset\n",
    "results = []\n",
    "dv = DictVectorizer(sparse=False)\n",
    "for c in [0.01, 0.1, 1, 10, 100]:\n",
    "    # create the training matrix\n",
    "    train_dict = df_train[categorical + numerical].to_dict(orient='records')\n",
    "    X_train = dv.fit_transform(train_dict)\n",
    "\n",
    "    # create the model\n",
    "    c_model = LogisticRegression(solver='liblinear', C=c, max_iter=1000, random_state=42)\n",
    "\n",
    "    # Train the model\n",
    "    c_model.fit(X_train, y_train)\n",
    "\n",
    "    # create the validation matrix\n",
    "    val_dict = df_val[categorical + numerical].to_dict(orient='records')\n",
    "    X_val = dv.transform(val_dict)\n",
    "\n",
    "    # predict the validation set\n",
    "    y_pred = c_model.predict(X_val)\n",
    "\n",
    "    converted_decision = (y_pred >= 0.5)\n",
    "    accuracy = (converted_decision == y_val).mean()\n",
    "    results.append((c, round(accuracy, 3)))\n",
    "    print(f\"Accuracy with C={c} : \", round(accuracy, 3))\n",
    "\n",
    "print(\"----\")\n",
    "print(\"'C' value goving best accuracy : \", max(results, key=lambda x: x[1])[0])"
   ],
   "id": "f2b62e76d6f7286d",
   "outputs": [
    {
     "name": "stdout",
     "output_type": "stream",
     "text": [
      "Accuracy with C=0.01 :  0.7\n",
      "Accuracy with C=0.1 :  0.7\n",
      "Accuracy with C=1 :  0.7\n",
      "Accuracy with C=10 :  0.7\n",
      "Accuracy with C=100 :  0.7\n",
      "----\n",
      "C value goving best accuracy :  0.01\n"
     ]
    }
   ],
   "execution_count": 31
  },
  {
   "metadata": {},
   "cell_type": "code",
   "outputs": [],
   "execution_count": null,
   "source": "",
   "id": "7d6fa5218ce2f394"
  }
 ],
 "metadata": {
  "kernelspec": {
   "display_name": "Python 3",
   "language": "python",
   "name": "python3"
  },
  "language_info": {
   "codemirror_mode": {
    "name": "ipython",
    "version": 2
   },
   "file_extension": ".py",
   "mimetype": "text/x-python",
   "name": "python",
   "nbconvert_exporter": "python",
   "pygments_lexer": "ipython2",
   "version": "2.7.6"
  }
 },
 "nbformat": 4,
 "nbformat_minor": 5
}
