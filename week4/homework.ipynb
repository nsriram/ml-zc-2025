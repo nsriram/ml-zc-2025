{
 "cells": [
  {
   "metadata": {},
   "cell_type": "markdown",
   "source": [
    "## Homework\n",
    "- In this homework, we will use the lead scoring dataset Bank Marketing dataset. Download it from here - https://raw.githubusercontent.com/alexeygrigorev/datasets/master/course_lead_scoring.csv\n",
    "- In this dataset our desired target for classification task will be converted variable - has the client signed up to the platform or not."
   ],
   "id": "65b996dc6159c3f0"
  },
  {
   "cell_type": "code",
   "id": "initial_id",
   "metadata": {
    "collapsed": true,
    "ExecuteTime": {
     "end_time": "2025-10-21T11:16:08.353819Z",
     "start_time": "2025-10-21T11:16:08.351864Z"
    }
   },
   "source": [
    "import pandas as pd\n",
    "import numpy as np\n",
    "import random\n",
    "\n",
    "import matplotlib.pyplot as plt\n",
    "\n",
    "from sklearn.model_selection import train_test_split\n",
    "from sklearn.feature_extraction import DictVectorizer\n",
    "from sklearn.linear_model import LogisticRegression\n",
    "from sklearn.preprocessing import StandardScaler\n",
    "from sklearn.metrics import accuracy_score\n",
    "from sklearn.metrics import auc, roc_curve\n",
    "from sklearn.metrics import roc_auc_score\n",
    "from sklearn.model_selection import KFold\n",
    "from sklearn.metrics import precision_score, recall_score\n",
    "\n",
    "from collections import Counter\n",
    "from tqdm.auto import tqdm"
   ],
   "outputs": [],
   "execution_count": 12
  },
  {
   "metadata": {
    "ExecuteTime": {
     "end_time": "2025-10-21T11:11:52.379386Z",
     "start_time": "2025-10-21T11:11:51.725600Z"
    }
   },
   "cell_type": "code",
   "source": "!wget https://raw.githubusercontent.com/alexeygrigorev/datasets/master/course_lead_scoring.csv -O course_lead_scoring.csv",
   "id": "6512813acd9d28ef",
   "outputs": [
    {
     "name": "stdout",
     "output_type": "stream",
     "text": [
      "--2025-10-21 16:41:51--  https://raw.githubusercontent.com/alexeygrigorev/datasets/master/course_lead_scoring.csv\r\n",
      "Resolving raw.githubusercontent.com (raw.githubusercontent.com)... 2606:50c0:8000::154, 2606:50c0:8001::154, 2606:50c0:8002::154, ...\r\n",
      "Connecting to raw.githubusercontent.com (raw.githubusercontent.com)|2606:50c0:8000::154|:443... connected.\r\n",
      "HTTP request sent, awaiting response... 200 OK\r\n",
      "Length: 80876 (79K) [text/plain]\r\n",
      "Saving to: ‘course_lead_scoring.csv’\r\n",
      "\r\n",
      "course_lead_scoring 100%[===================>]  78.98K  --.-KB/s    in 0.01s   \r\n",
      "\r\n",
      "2025-10-21 16:41:52 (6.67 MB/s) - ‘course_lead_scoring.csv’ saved [80876/80876]\r\n",
      "\r\n"
     ]
    }
   ],
   "execution_count": 2
  },
  {
   "metadata": {},
   "cell_type": "markdown",
   "source": "## Data preparation",
   "id": "451685db50e27aee"
  },
  {
   "metadata": {},
   "cell_type": "markdown",
   "source": "### Loading Data",
   "id": "f0c19edacbe8ad39"
  },
  {
   "metadata": {
    "ExecuteTime": {
     "end_time": "2025-10-21T11:11:56.923007Z",
     "start_time": "2025-10-21T11:11:56.903798Z"
    }
   },
   "cell_type": "code",
   "source": [
    "# load the data\n",
    "df = pd.read_csv('course_lead_scoring.csv')\n",
    "df.head().T"
   ],
   "id": "f39ccec044c5dfa6",
   "outputs": [
    {
     "data": {
      "text/plain": [
       "                                      0              1           2          3  \\\n",
       "lead_source                    paid_ads   social_media      events   paid_ads   \n",
       "industry                            NaN         retail  healthcare     retail   \n",
       "number_of_courses_viewed              1              1           5          2   \n",
       "annual_income                   79450.0        46992.0     78796.0    83843.0   \n",
       "employment_status            unemployed       employed  unemployed        NaN   \n",
       "location                  south_america  south_america   australia  australia   \n",
       "interaction_count                     4              1           3          1   \n",
       "lead_score                         0.94            0.8        0.69       0.87   \n",
       "converted                             1              0           1          0   \n",
       "\n",
       "                                      4  \n",
       "lead_source                    referral  \n",
       "industry                      education  \n",
       "number_of_courses_viewed              3  \n",
       "annual_income                   85012.0  \n",
       "employment_status         self_employed  \n",
       "location                         europe  \n",
       "interaction_count                     3  \n",
       "lead_score                         0.62  \n",
       "converted                             1  "
      ],
      "text/html": [
       "<div>\n",
       "<style scoped>\n",
       "    .dataframe tbody tr th:only-of-type {\n",
       "        vertical-align: middle;\n",
       "    }\n",
       "\n",
       "    .dataframe tbody tr th {\n",
       "        vertical-align: top;\n",
       "    }\n",
       "\n",
       "    .dataframe thead th {\n",
       "        text-align: right;\n",
       "    }\n",
       "</style>\n",
       "<table border=\"1\" class=\"dataframe\">\n",
       "  <thead>\n",
       "    <tr style=\"text-align: right;\">\n",
       "      <th></th>\n",
       "      <th>0</th>\n",
       "      <th>1</th>\n",
       "      <th>2</th>\n",
       "      <th>3</th>\n",
       "      <th>4</th>\n",
       "    </tr>\n",
       "  </thead>\n",
       "  <tbody>\n",
       "    <tr>\n",
       "      <th>lead_source</th>\n",
       "      <td>paid_ads</td>\n",
       "      <td>social_media</td>\n",
       "      <td>events</td>\n",
       "      <td>paid_ads</td>\n",
       "      <td>referral</td>\n",
       "    </tr>\n",
       "    <tr>\n",
       "      <th>industry</th>\n",
       "      <td>NaN</td>\n",
       "      <td>retail</td>\n",
       "      <td>healthcare</td>\n",
       "      <td>retail</td>\n",
       "      <td>education</td>\n",
       "    </tr>\n",
       "    <tr>\n",
       "      <th>number_of_courses_viewed</th>\n",
       "      <td>1</td>\n",
       "      <td>1</td>\n",
       "      <td>5</td>\n",
       "      <td>2</td>\n",
       "      <td>3</td>\n",
       "    </tr>\n",
       "    <tr>\n",
       "      <th>annual_income</th>\n",
       "      <td>79450.0</td>\n",
       "      <td>46992.0</td>\n",
       "      <td>78796.0</td>\n",
       "      <td>83843.0</td>\n",
       "      <td>85012.0</td>\n",
       "    </tr>\n",
       "    <tr>\n",
       "      <th>employment_status</th>\n",
       "      <td>unemployed</td>\n",
       "      <td>employed</td>\n",
       "      <td>unemployed</td>\n",
       "      <td>NaN</td>\n",
       "      <td>self_employed</td>\n",
       "    </tr>\n",
       "    <tr>\n",
       "      <th>location</th>\n",
       "      <td>south_america</td>\n",
       "      <td>south_america</td>\n",
       "      <td>australia</td>\n",
       "      <td>australia</td>\n",
       "      <td>europe</td>\n",
       "    </tr>\n",
       "    <tr>\n",
       "      <th>interaction_count</th>\n",
       "      <td>4</td>\n",
       "      <td>1</td>\n",
       "      <td>3</td>\n",
       "      <td>1</td>\n",
       "      <td>3</td>\n",
       "    </tr>\n",
       "    <tr>\n",
       "      <th>lead_score</th>\n",
       "      <td>0.94</td>\n",
       "      <td>0.8</td>\n",
       "      <td>0.69</td>\n",
       "      <td>0.87</td>\n",
       "      <td>0.62</td>\n",
       "    </tr>\n",
       "    <tr>\n",
       "      <th>converted</th>\n",
       "      <td>1</td>\n",
       "      <td>0</td>\n",
       "      <td>1</td>\n",
       "      <td>0</td>\n",
       "      <td>1</td>\n",
       "    </tr>\n",
       "  </tbody>\n",
       "</table>\n",
       "</div>"
      ]
     },
     "execution_count": 3,
     "metadata": {},
     "output_type": "execute_result"
    }
   ],
   "execution_count": 3
  },
  {
   "metadata": {
    "ExecuteTime": {
     "end_time": "2025-10-21T11:11:59.870484Z",
     "start_time": "2025-10-21T11:11:59.866641Z"
    }
   },
   "cell_type": "code",
   "source": [
    "# print the data types and column names\n",
    "df.dtypes"
   ],
   "id": "a750df276a710edc",
   "outputs": [
    {
     "data": {
      "text/plain": [
       "lead_source                  object\n",
       "industry                     object\n",
       "number_of_courses_viewed      int64\n",
       "annual_income               float64\n",
       "employment_status            object\n",
       "location                     object\n",
       "interaction_count             int64\n",
       "lead_score                  float64\n",
       "converted                     int64\n",
       "dtype: object"
      ]
     },
     "execution_count": 4,
     "metadata": {},
     "output_type": "execute_result"
    }
   ],
   "execution_count": 4
  },
  {
   "metadata": {},
   "cell_type": "markdown",
   "source": [
    "Data has\n",
    "- 9 columns in total are there\n",
    "- 4 object columns (`lead_source`, `industry`, `employment_status`, `location`)\n",
    "- 4 numeric columns (`number_of_courses_viewed`, `annual_income`, `interaction_count`, `lead_score`)\n",
    "- `converted` is the target variable"
   ],
   "id": "d55f5be1436dd088"
  },
  {
   "metadata": {
    "ExecuteTime": {
     "end_time": "2025-10-21T11:12:02.670699Z",
     "start_time": "2025-10-21T11:12:02.667488Z"
    }
   },
   "cell_type": "code",
   "source": [
    "# df shape\n",
    "df.shape"
   ],
   "id": "437abafb736a2748",
   "outputs": [
    {
     "data": {
      "text/plain": [
       "(1462, 9)"
      ]
     },
     "execution_count": 5,
     "metadata": {},
     "output_type": "execute_result"
    }
   ],
   "execution_count": 5
  },
  {
   "metadata": {},
   "cell_type": "markdown",
   "source": "- Data has 1462 rows and 9 columns",
   "id": "f5075927d464ea4a"
  },
  {
   "metadata": {},
   "cell_type": "markdown",
   "source": [
    "### Handling missing values\n",
    "If there are missing values:\n",
    "- For categorical features, replace them with 'NA'\n",
    "- For numerical features, replace with with 0.0\n"
   ],
   "id": "b43838bc743d8f3d"
  },
  {
   "metadata": {
    "ExecuteTime": {
     "end_time": "2025-10-21T11:12:05.230574Z",
     "start_time": "2025-10-21T11:12:05.225096Z"
    }
   },
   "cell_type": "code",
   "source": [
    "# Check if the missing values are presented in the features.\n",
    "df.isnull().sum()"
   ],
   "id": "354d216ec0eb76d",
   "outputs": [
    {
     "data": {
      "text/plain": [
       "lead_source                 128\n",
       "industry                    134\n",
       "number_of_courses_viewed      0\n",
       "annual_income               181\n",
       "employment_status           100\n",
       "location                     63\n",
       "interaction_count             0\n",
       "lead_score                    0\n",
       "converted                     0\n",
       "dtype: int64"
      ]
     },
     "execution_count": 6,
     "metadata": {},
     "output_type": "execute_result"
    }
   ],
   "execution_count": 6
  },
  {
   "metadata": {},
   "cell_type": "markdown",
   "source": [
    "Following columns have missing values:\n",
    "- 'lead_source' - 128 missing values\n",
    "- 'industry' - 134 missing values\n",
    "- 'annual_income' - 181 missing values\n",
    "- 'employment_status' - 100 missing values\n",
    "- 'location' - 63 missing values"
   ],
   "id": "45188633f5732256"
  },
  {
   "metadata": {
    "ExecuteTime": {
     "end_time": "2025-10-21T11:12:07.575081Z",
     "start_time": "2025-10-21T11:12:07.565990Z"
    }
   },
   "cell_type": "code",
   "source": [
    "category_columns = ['lead_source', 'industry', 'employment_status', 'location']\n",
    "numerical_columns = ['number_of_courses_viewed', 'annual_income', 'interaction_count', 'lead_score']\n",
    "\n",
    "# For all categorical features, replace them with 'NA', as they all have null values\n",
    "df[category_columns] = df[category_columns].fillna('NA')\n",
    "\n",
    "# Only annual_income numerical column has null values, hence replacing nulls with 0.0\n",
    "df['annual_income'] = df['annual_income'].fillna(0)"
   ],
   "id": "4cce6e5efd007c91",
   "outputs": [],
   "execution_count": 7
  },
  {
   "metadata": {
    "ExecuteTime": {
     "end_time": "2025-10-21T11:12:09.815850Z",
     "start_time": "2025-10-21T11:12:09.810970Z"
    }
   },
   "cell_type": "code",
   "source": [
    "# verify null values are handled\n",
    "df.isnull().sum()"
   ],
   "id": "70e1ec205acb2baf",
   "outputs": [
    {
     "data": {
      "text/plain": [
       "lead_source                 0\n",
       "industry                    0\n",
       "number_of_courses_viewed    0\n",
       "annual_income               0\n",
       "employment_status           0\n",
       "location                    0\n",
       "interaction_count           0\n",
       "lead_score                  0\n",
       "converted                   0\n",
       "dtype: int64"
      ]
     },
     "execution_count": 8,
     "metadata": {},
     "output_type": "execute_result"
    }
   ],
   "execution_count": 8
  },
  {
   "metadata": {
    "ExecuteTime": {
     "end_time": "2025-10-21T11:12:18.175103Z",
     "start_time": "2025-10-21T11:12:18.166474Z"
    }
   },
   "cell_type": "code",
   "source": [
    "# Split the data into 3 parts: train/validation/test with 60%/20%/20% distribution. Use train_test_split function for that with random_state=1\n",
    "df_full_train, df_test = train_test_split(df, test_size=0.2, random_state=1)\n",
    "df_train, df_val = train_test_split(df_full_train, test_size=0.25, random_state=1)\n",
    "\n",
    "y_train = df_train['converted']\n",
    "y_val = df_val['converted']\n",
    "y_test = df_test['converted']\n",
    "\n",
    "del df_train['converted']\n",
    "del df_val['converted']\n",
    "del df_test['converted']\n",
    "\n",
    "# print the shapes of the resulting dataframes\n",
    "print(\"df_train shape:\", df_train.shape)\n",
    "print(\"df_val shape:\", df_val.shape)\n",
    "print(\"df_test shape:\", df_test.shape)\n",
    "\n",
    "# print the shapes of the y datasets\n",
    "print(\"y_train shape:\", y_train.shape)\n",
    "print(\"y_val shape:\", y_val.shape)\n",
    "print(\"y_test shape:\", y_test.shape)"
   ],
   "id": "39b6288405a1c5c7",
   "outputs": [
    {
     "name": "stdout",
     "output_type": "stream",
     "text": [
      "df_train shape: (876, 8)\n",
      "df_val shape: (293, 8)\n",
      "df_test shape: (293, 8)\n",
      "y_train shape: (876,)\n",
      "y_val shape: (293,)\n",
      "y_test shape: (293,)\n"
     ]
    }
   ],
   "execution_count": 9
  },
  {
   "metadata": {},
   "cell_type": "markdown",
   "source": [
    "## Question 1: ROC AUC feature importance\n",
    "ROC AUC could also be used to evaluate feature importance of numerical variables.\n",
    "\n",
    "Let's do that\n",
    "- For each numerical variable, use it as score (aka prediction) and compute the AUC with the y variable as ground truth.\n",
    "- Use the training dataset for that\n",
    "\n",
    "If your AUC is < 0.5, invert this variable by putting \"-\" in front (e.g. -df_train['balance'])\n",
    "\n",
    "AUC can go below 0.5 if the variable is negatively correlated with the target variable.\n",
    "You can change the direction of the correlation by negating this variable - then negative correlation becomes positive.\n",
    "\n",
    "Which numerical variable (among the following 4) has the highest AUC?"
   ],
   "id": "d24be678cbb20b8c"
  },
  {
   "metadata": {
    "ExecuteTime": {
     "end_time": "2025-10-21T11:12:20.819622Z",
     "start_time": "2025-10-21T11:12:20.809338Z"
    }
   },
   "cell_type": "code",
   "source": [
    "auc_scores = {}\n",
    "for numerical_column in numerical_columns:\n",
    "    auc_score = roc_auc_score(y_train, df_train[numerical_column])\n",
    "    if auc_score < 0.5:\n",
    "        auc_score = roc_auc_score(y_train, -df_train[numerical_column])\n",
    "    auc_scores[numerical_column] = auc_score\n",
    "\n",
    "highest_auc_variable = max(auc_scores, key=auc_scores.get)\n",
    "highest_auc_value = auc_scores[highest_auc_variable]\n",
    "print(f\"The numerical variable with the highest AUC is '{highest_auc_variable}' with an AUC of {highest_auc_value:.4f}\")"
   ],
   "id": "f6b0549a1ba18a67",
   "outputs": [
    {
     "name": "stdout",
     "output_type": "stream",
     "text": [
      "The numerical variable with the highest AUC is 'number_of_courses_viewed' with an AUC of 0.7636\n"
     ]
    }
   ],
   "execution_count": 10
  },
  {
   "metadata": {},
   "cell_type": "markdown",
   "source": "## Question 2: Training the model",
   "id": "44598199cd09b59f"
  },
  {
   "metadata": {
    "ExecuteTime": {
     "end_time": "2025-10-21T11:16:16.724897Z",
     "start_time": "2025-10-21T11:16:16.700212Z"
    }
   },
   "cell_type": "code",
   "source": [
    "scaler = StandardScaler()\n",
    "df_train_scaled = df_train.copy()\n",
    "df_val_scaled = df_val.copy()\n",
    "\n",
    "df_train_scaled[numerical_columns] = scaler.fit_transform(df_train[numerical_columns])\n",
    "df_val_scaled[numerical_columns] = scaler.transform(df_val[numerical_columns])\n",
    "\n",
    "dv = DictVectorizer(sparse=False)\n",
    "\n",
    "train_dict = df_train_scaled[numerical_columns + category_columns].to_dict(orient='records')\n",
    "val_dict = df_val_scaled[numerical_columns + category_columns].to_dict(orient='records')\n",
    "\n",
    "X_train = dv.fit_transform(train_dict)\n",
    "X_val = dv.transform(val_dict)\n",
    "\n",
    "model = LogisticRegression(solver='liblinear', C=1.0, max_iter=1000)\n",
    "model.fit(X_train, y_train)\n",
    "\n",
    "y_val_pred = model.predict_proba(X_val)[:, 1]\n",
    "\n",
    "fpr, tpr, thresholds = roc_curve(y_val, y_val_pred)\n",
    "auc_score = auc(fpr, tpr)\n",
    "print(f\"AUC on validation set: {auc_score:.3f}\")"
   ],
   "id": "5b67dec987ace4a2",
   "outputs": [
    {
     "name": "stdout",
     "output_type": "stream",
     "text": [
      "AUC on validation set: 0.921\n"
     ]
    }
   ],
   "execution_count": 13
  },
  {
   "metadata": {},
   "cell_type": "markdown",
   "source": "## Question 3: Precision and Recall",
   "id": "730d10c105415e78"
  },
  {
   "metadata": {
    "ExecuteTime": {
     "end_time": "2025-10-21T11:16:30.302596Z",
     "start_time": "2025-10-21T11:16:30.298314Z"
    }
   },
   "cell_type": "code",
   "source": [
    "# Evaluate the model on all thresholds from 0.0 to 1.0 with step 0.01\n",
    "thresholds = np.arange(0.0, 1.01, 0.01)\n",
    "\n",
    "# for all thresholds, calculate tp, fp, fn, tn\n",
    "def tpr_fpr_dataframe(y_val, y_pred):\n",
    "    scores = []\n",
    "\n",
    "    for t in thresholds:\n",
    "        actual_positive = (y_val == 1)\n",
    "        actual_negative = (y_val == 0)\n",
    "\n",
    "        predict_positive = (y_pred >= t)\n",
    "        predict_negative = (y_pred < t)\n",
    "\n",
    "        tp = (predict_positive & actual_positive).sum()\n",
    "        tn = (predict_negative & actual_negative).sum()\n",
    "\n",
    "        fp = (predict_positive & actual_negative).sum()\n",
    "        fn = (predict_negative & actual_positive).sum()\n",
    "\n",
    "        # Skip this threshold if we can't calculate precision or recall\n",
    "        if (tp + fp) == 0 or (tp + fn) == 0:\n",
    "            continue\n",
    "\n",
    "        precision = tp / (tp + fp)\n",
    "        recall = tp / (tp + fn)\n",
    "\n",
    "        scores.append((t, tp, fp, fn, tn, precision, recall))\n",
    "\n",
    "    columns = ['threshold', 'tp', 'fp', 'fn', 'tn', 'precision', 'recall']\n",
    "    df_scores = pd.DataFrame(scores, columns=columns)\n",
    "\n",
    "    return df_scores"
   ],
   "id": "e7b383782af2a649",
   "outputs": [],
   "execution_count": 14
  },
  {
   "metadata": {
    "ExecuteTime": {
     "end_time": "2025-10-21T11:16:33.233421Z",
     "start_time": "2025-10-21T11:16:33.140589Z"
    }
   },
   "cell_type": "code",
   "source": [
    "df_scores = tpr_fpr_dataframe(y_val, y_val_pred)\n",
    "\n",
    "# Plot precision and recall computed for all thresholds in df_scores\n",
    "plt.plot(df_scores['threshold'], df_scores['precision'], label='Precision')\n",
    "plt.plot(df_scores['threshold'], df_scores['recall'], label='Recall')\n",
    "plt.xlabel('Threshold')\n",
    "plt.ylabel('Score')\n",
    "plt.legend()\n",
    "plt.grid(True)\n",
    "plt.show()\n",
    "\n",
    "# Find the intersection point\n",
    "df_scores['diff'] = np.abs(df_scores['precision'] - df_scores['recall'])\n",
    "intersection_idx = df_scores['diff'].idxmin()\n",
    "intersection_threshold = df_scores.loc[intersection_idx, 'threshold']\n",
    "\n",
    "# value of precision and recall at the intersection point\n",
    "precision = df_scores.loc[intersection_idx, 'precision']\n",
    "recall = df_scores.loc[intersection_idx, 'recall']\n",
    "\n",
    "# print threshold where precision and recall intersect with 3 decimals\n",
    "print(f\"Answer : Precision: {precision: .3f} and Recall: {recall: .3f} are intersecting at threshold: {intersection_threshold:.3f}\")"
   ],
   "id": "60f109bb104187b",
   "outputs": [
    {
     "data": {
      "text/plain": [
       "<Figure size 640x480 with 1 Axes>"
      ],
      "image/png": "[encoded data removed]"
     },
     "metadata": {},
     "output_type": "display_data"
    },
    {
     "name": "stdout",
     "output_type": "stream",
     "text": [
      "Answer : Precision:  0.878 and Recall:  0.883 are intersecting at threshold: 0.530\n"
     ]
    }
   ],
   "execution_count": 15
  },
  {
   "metadata": {},
   "cell_type": "markdown",
   "source": "## Question 4: F1 score",
   "id": "a0e0fbd8bd12dd4b"
  },
  {
   "metadata": {
    "ExecuteTime": {
     "end_time": "2025-10-21T11:16:42.299335Z",
     "start_time": "2025-10-21T11:16:42.292129Z"
    }
   },
   "cell_type": "code",
   "source": [
    "# Precision and recall are conflicting - when one grows, the other goes down.\n",
    "# That's why they are often combined into the F1 score - a metrics that takes into account both\n",
    "# This is the formula for computing F1:\n",
    "# F1 = 2 * (precision * recall) / (precision + recall)\n",
    "# Where P is precision and R is recall.\n",
    "# Let's compute F1 for all thresholds from 0.0 to 1.0 with increment 0.01. At which threshold F1 is maximal?\n",
    "df_scores['f1'] = df_scores.apply(\n",
    "    lambda row: 0 if (row['precision'] + row['recall']) == 0\n",
    "    else 2 * (row['precision'] * row['recall']) / (row['precision'] + row['recall']),\n",
    "    axis=1\n",
    ")\n",
    "max_f1_idx = df_scores['f1'].idxmax()\n",
    "max_f1_threshold = df_scores.loc[max_f1_idx, 'threshold']\n",
    "max_f1_value = df_scores.loc[max_f1_idx, 'f1']\n",
    "print(f\"Answer : Maximum F1 score of {max_f1_value:.4f} occurs at threshold: {max_f1_threshold}\")\n"
   ],
   "id": "f5227d8a884e582d",
   "outputs": [
    {
     "name": "stdout",
     "output_type": "stream",
     "text": [
      "Answer : Maximum F1 score of 0.8805 occurs at threshold: 0.53\n"
     ]
    }
   ],
   "execution_count": 16
  },
  {
   "metadata": {},
   "cell_type": "markdown",
   "source": "## Question 5: 5-Fold CV",
   "id": "63d5afa17ce0f815"
  },
  {
   "metadata": {
    "ExecuteTime": {
     "end_time": "2025-10-21T11:30:23.569141Z",
     "start_time": "2025-10-21T11:30:23.510354Z"
    }
   },
   "cell_type": "code",
   "source": [
    "kfold = KFold(n_splits=5, shuffle=True, random_state=1)\n",
    "scores = []\n",
    "\n",
    "for train_idx, val_idx in kfold.split(df_full_train):\n",
    "    df_train = df_full_train.iloc[train_idx].copy()\n",
    "    df_val = df_full_train.iloc[val_idx].copy()\n",
    "\n",
    "    y_train = df_train.pop('converted')\n",
    "    y_val = df_val.pop('converted')\n",
    "\n",
    "    scaler = StandardScaler()\n",
    "    df_train[numerical_columns] = scaler.fit_transform(df_train[numerical_columns])\n",
    "    df_val[numerical_columns] = scaler.transform(df_val[numerical_columns])\n",
    "\n",
    "    dv = DictVectorizer(sparse=False)\n",
    "    train_dict = df_train[numerical_columns + category_columns].to_dict(orient='records')\n",
    "    val_dict = df_val[numerical_columns + category_columns].to_dict(orient='records')\n",
    "\n",
    "    X_train = dv.fit_transform(train_dict)\n",
    "    X_val = dv.transform(val_dict)\n",
    "\n",
    "    model = LogisticRegression(solver='liblinear', C=1.0, max_iter=1000)\n",
    "    model.fit(X_train, y_train)\n",
    "\n",
    "    y_pred = model.predict_proba(X_val)[:, 1]\n",
    "    auc = roc_auc_score(y_val, y_pred)\n",
    "    scores.append(auc)\n",
    "\n",
    "print(f\"C={C}  AUC: {np.mean(scores):.3f} ± {np.std(scores):.3f}\")"
   ],
   "id": "f0589c3430d39f17",
   "outputs": [
    {
     "name": "stdout",
     "output_type": "stream",
     "text": [
      "C=1.0  AUC: 0.921 ± 0.010\n"
     ]
    }
   ],
   "execution_count": 30
  },
  {
   "metadata": {},
   "cell_type": "markdown",
   "source": "## Question 6: Hyperparameter Tuning",
   "id": "676c273584f8053a"
  },
  {
   "metadata": {
    "ExecuteTime": {
     "end_time": "2025-10-21T11:36:09.751548Z",
     "start_time": "2025-10-21T11:36:09.644732Z"
    }
   },
   "cell_type": "code",
   "source": [
    "# Now let's use 5-Fold cross-validation to find the best parameter C\n",
    "# Iterate over the following C values: [0.000001, 0.001, 1]\n",
    "# Initialize KFold with the same parameters as previously\n",
    "# Use these parameters for the model: LogisticRegression(solver='liblinear', C=C, max_iter=1000)\n",
    "# Compute the mean score as well as the std (round the mean and std to 3 decimal digits)\n",
    "C_values = [0.000001, 0.001, 1]\n",
    "best_C = None\n",
    "best_mean_auc = 0\n",
    "best_std_auc = 0\n",
    "for C in C_values:\n",
    "    kfold = KFold(n_splits=5, shuffle=True, random_state=1)\n",
    "    scores = []\n",
    "\n",
    "    for train_idx, val_idx in kfold.split(df_full_train):\n",
    "        df_train = df_full_train.iloc[train_idx].copy()\n",
    "        df_val = df_full_train.iloc[val_idx].copy()\n",
    "\n",
    "        y_train = df_train.pop('converted')\n",
    "        y_val = df_val.pop('converted')\n",
    "\n",
    "        scaler = StandardScaler()\n",
    "        df_train[numerical_columns] = scaler.fit_transform(df_train[numerical_columns])\n",
    "        df_val[numerical_columns] = scaler.transform(df_val[numerical_columns])\n",
    "\n",
    "        dv = DictVectorizer(sparse=False)\n",
    "        train_dict = df_train[numerical_columns + category_columns].to_dict(orient='records')\n",
    "        val_dict = df_val[numerical_columns + category_columns].to_dict(orient='records')\n",
    "\n",
    "        X_train = dv.fit_transform(train_dict)\n",
    "        X_val = dv.transform(val_dict)\n",
    "\n",
    "        model = LogisticRegression(solver='liblinear', C=C, max_iter=1000)\n",
    "        model.fit(X_train, y_train)\n",
    "\n",
    "        y_pred = model.predict_proba(X_val)[:, 1]\n",
    "        auc = roc_auc_score(y_val, y_pred)\n",
    "        scores.append(auc)\n",
    "\n",
    "    mean_auc = np.mean(scores)\n",
    "    std_auc = np.std(scores)\n",
    "\n",
    "    print(f\"C={C}  AUC: {mean_auc:.3f} ± {std_auc:.3f}\")\n",
    "\n",
    "    if mean_auc > best_mean_auc:\n",
    "        best_mean_auc = mean_auc\n",
    "        best_std_auc = std_auc\n",
    "        best_C = C\n",
    "\n",
    "# Which C leads to the best mean score?\n",
    "print(f\"Best C: {best_C} with AUC: {best_mean_auc:.3f} ± {best_std_auc:.3f}\")"
   ],
   "id": "e6671aebeb067fd2",
   "outputs": [
    {
     "name": "stdout",
     "output_type": "stream",
     "text": [
      "C=1e-06  AUC: 0.903 ± 0.013\n",
      "C=0.001  AUC: 0.905 ± 0.013\n",
      "C=1  AUC: 0.921 ± 0.010\n",
      "Best C: 1 with AUC: 0.921 ± 0.010\n"
     ]
    }
   ],
   "execution_count": 32
  },
  {
   "metadata": {},
   "cell_type": "code",
   "outputs": [],
   "execution_count": null,
   "source": "",
   "id": "448e0d6e6f82e061"
  }
 ],
 "metadata": {
  "kernelspec": {
   "display_name": "Python 3",
   "language": "python",
   "name": "python3"
  },
  "language_info": {
   "codemirror_mode": {
    "name": "ipython",
    "version": 2
   },
   "file_extension": ".py",
   "mimetype": "text/x-python",
   "name": "python",
   "nbconvert_exporter": "python",
   "pygments_lexer": "ipython2",
   "version": "2.7.6"
  }
 },
 "nbformat": 4,
 "nbformat_minor": 5
}
