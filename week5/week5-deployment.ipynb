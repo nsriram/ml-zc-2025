{
 "cells": [
  {
   "metadata": {},
   "cell_type": "markdown",
   "source": "## Video 1 : Introduction",
   "id": "948e4af80e827211"
  },
  {
   "cell_type": "code",
   "id": "initial_id",
   "metadata": {
    "collapsed": true,
    "ExecuteTime": {
     "end_time": "2025-10-27T02:44:37.285100Z",
     "start_time": "2025-10-27T02:44:34.201377Z"
    }
   },
   "source": [
    "import pandas as pd\n",
    "import numpy as np\n",
    "\n",
    "from sklearn.model_selection import train_test_split\n",
    "from sklearn.model_selection import KFold\n",
    "\n",
    "from sklearn.feature_extraction import DictVectorizer\n",
    "from sklearn.linear_model import LogisticRegression\n",
    "from sklearn.metrics import roc_auc_score"
   ],
   "outputs": [],
   "execution_count": 1
  },
  {
   "metadata": {
    "ExecuteTime": {
     "end_time": "2025-10-27T02:45:40.588029Z",
     "start_time": "2025-10-27T02:45:40.543189Z"
    }
   },
   "cell_type": "code",
   "source": [
    "df = pd.read_csv('../week3/data-week-3.csv')\n",
    "\n",
    "df.columns = df.columns.str.lower().str.replace(' ', '_')\n",
    "\n",
    "categorical_columns = list(df.dtypes[df.dtypes == 'object'].index)\n",
    "\n",
    "for c in categorical_columns:\n",
    "    df[c] = df[c].str.lower().str.replace(' ', '_')\n",
    "\n",
    "df.totalcharges = pd.to_numeric(df.totalcharges, errors='coerce')\n",
    "df.totalcharges = df.totalcharges.fillna(0)\n",
    "\n",
    "df.churn = (df.churn == 'yes').astype(int)"
   ],
   "id": "60d723dc7bebda08",
   "outputs": [],
   "execution_count": 2
  },
  {
   "metadata": {
    "ExecuteTime": {
     "end_time": "2025-10-27T02:45:45.029659Z",
     "start_time": "2025-10-27T02:45:45.024679Z"
    }
   },
   "cell_type": "code",
   "source": "df_full_train, df_test = train_test_split(df, test_size=0.2, random_state=1)",
   "id": "f247ef4ae43719b3",
   "outputs": [],
   "execution_count": 3
  },
  {
   "metadata": {
    "ExecuteTime": {
     "end_time": "2025-10-27T02:45:50.019845Z",
     "start_time": "2025-10-27T02:45:50.017577Z"
    }
   },
   "cell_type": "code",
   "source": [
    "numerical = ['tenure', 'monthlycharges', 'totalcharges']\n",
    "\n",
    "categorical = [\n",
    "    'gender',\n",
    "    'seniorcitizen',\n",
    "    'partner',\n",
    "    'dependents',\n",
    "    'phoneservice',\n",
    "    'multiplelines',\n",
    "    'internetservice',\n",
    "    'onlinesecurity',\n",
    "    'onlinebackup',\n",
    "    'deviceprotection',\n",
    "    'techsupport',\n",
    "    'streamingtv',\n",
    "    'streamingmovies',\n",
    "    'contract',\n",
    "    'paperlessbilling',\n",
    "    'paymentmethod',\n",
    "]"
   ],
   "id": "a8e1387e16e5fc99",
   "outputs": [],
   "execution_count": 4
  },
  {
   "metadata": {
    "ExecuteTime": {
     "end_time": "2025-10-27T02:46:55.150349Z",
     "start_time": "2025-10-27T02:46:55.148592Z"
    }
   },
   "cell_type": "code",
   "source": [
    "def train(df_train, y_train, C=1.0):\n",
    "    dicts = df_train[categorical + numerical].to_dict(orient='records')\n",
    "\n",
    "    dv = DictVectorizer(sparse=False)\n",
    "    X_train = dv.fit_transform(dicts)\n",
    "\n",
    "    model = LogisticRegression(C=C, max_iter=10000)\n",
    "    model.fit(X_train, y_train)\n",
    "\n",
    "    return dv, model"
   ],
   "id": "67759f8f4f5cca7f",
   "outputs": [],
   "execution_count": 9
  },
  {
   "metadata": {
    "ExecuteTime": {
     "end_time": "2025-10-27T02:46:55.793642Z",
     "start_time": "2025-10-27T02:46:55.790434Z"
    }
   },
   "cell_type": "code",
   "source": [
    "def predict(df, dv, model):\n",
    "    dicts = df[categorical + numerical].to_dict(orient='records')\n",
    "\n",
    "    X = dv.transform(dicts)\n",
    "    y_pred = model.predict_proba(X)[:, 1]\n",
    "\n",
    "    return y_pred"
   ],
   "id": "8896bc0e32a7b398",
   "outputs": [],
   "execution_count": 10
  },
  {
   "metadata": {
    "ExecuteTime": {
     "end_time": "2025-10-27T02:46:56.201723Z",
     "start_time": "2025-10-27T02:46:56.200136Z"
    }
   },
   "cell_type": "code",
   "source": [
    "C = 1.0\n",
    "n_splits = 5"
   ],
   "id": "fb500262596ff572",
   "outputs": [],
   "execution_count": 11
  },
  {
   "metadata": {
    "ExecuteTime": {
     "end_time": "2025-10-27T02:46:58.241870Z",
     "start_time": "2025-10-27T02:46:56.684434Z"
    }
   },
   "cell_type": "code",
   "source": [
    "kfold = KFold(n_splits=n_splits, shuffle=True, random_state=1)\n",
    "\n",
    "scores = []\n",
    "\n",
    "for train_idx, val_idx in kfold.split(df_full_train):\n",
    "    df_train = df_full_train.iloc[train_idx]\n",
    "    df_val = df_full_train.iloc[val_idx]\n",
    "\n",
    "    y_train = df_train.churn.values\n",
    "    y_val = df_val.churn.values\n",
    "\n",
    "    dv, model = train(df_train, y_train, C=C)\n",
    "    y_pred = predict(df_val, dv, model)\n",
    "\n",
    "    auc = roc_auc_score(y_val, y_pred)\n",
    "    scores.append(auc)\n",
    "\n",
    "print('C=%s %.3f +- %.3f' % (C, np.mean(scores), np.std(scores)))"
   ],
   "id": "ad26480989290893",
   "outputs": [
    {
     "name": "stdout",
     "output_type": "stream",
     "text": [
      "C=1.0 0.842 +- 0.007\n"
     ]
    }
   ],
   "execution_count": 12
  },
  {
   "metadata": {
    "ExecuteTime": {
     "end_time": "2025-10-27T02:47:07.757007Z",
     "start_time": "2025-10-27T02:47:07.753466Z"
    }
   },
   "cell_type": "code",
   "source": "scores",
   "id": "f59434404d316cb5",
   "outputs": [
    {
     "data": {
      "text/plain": [
       "[0.8443728363856159,\n",
       " 0.8449770725731691,\n",
       " 0.8335741521171984,\n",
       " 0.8347169373920829,\n",
       " 0.8517029588026732]"
      ]
     },
     "execution_count": 13,
     "metadata": {},
     "output_type": "execute_result"
    }
   ],
   "execution_count": 13
  },
  {
   "metadata": {
    "ExecuteTime": {
     "end_time": "2025-10-27T02:47:13.697403Z",
     "start_time": "2025-10-27T02:47:13.471477Z"
    }
   },
   "cell_type": "code",
   "source": [
    "dv, model = train(df_full_train, df_full_train.churn.values, C=1.0)\n",
    "y_pred = predict(df_test, dv, model)\n",
    "\n",
    "y_test = df_test.churn.values\n",
    "auc = roc_auc_score(y_test, y_pred)\n",
    "auc"
   ],
   "id": "3ea6f6e117c3bbc5",
   "outputs": [
    {
     "data": {
      "text/plain": [
       "0.858373416967294"
      ]
     },
     "execution_count": 14,
     "metadata": {},
     "output_type": "execute_result"
    }
   ],
   "execution_count": 14
  },
  {
   "metadata": {},
   "cell_type": "markdown",
   "source": " # Video 2: Saving and loading the model",
   "id": "84144d58fc62baa9"
  },
  {
   "metadata": {
    "ExecuteTime": {
     "end_time": "2025-10-27T03:05:53.349872Z",
     "start_time": "2025-10-27T03:05:53.347689Z"
    }
   },
   "cell_type": "code",
   "source": "import pickle",
   "id": "886c281b42f5d625",
   "outputs": [],
   "execution_count": 15
  },
  {
   "metadata": {
    "ExecuteTime": {
     "end_time": "2025-10-27T03:06:25.728581Z",
     "start_time": "2025-10-27T03:06:25.725998Z"
    }
   },
   "cell_type": "code",
   "source": [
    "output_file = f'model_C={C}.bin'\n",
    "output_file"
   ],
   "id": "ce09f45de87bf776",
   "outputs": [
    {
     "data": {
      "text/plain": [
       "'model_C=1.0.bin'"
      ]
     },
     "execution_count": 16,
     "metadata": {},
     "output_type": "execute_result"
    }
   ],
   "execution_count": 16
  },
  {
   "metadata": {
    "ExecuteTime": {
     "end_time": "2025-10-27T03:06:59.872267Z",
     "start_time": "2025-10-27T03:06:59.869249Z"
    }
   },
   "cell_type": "code",
   "source": [
    "with open(output_file, 'wb') as f_out:\n",
    "    pickle.dump((dv, model), f_out)\n",
    "    f_out.close()"
   ],
   "id": "968e6a7430cc02f4",
   "outputs": [],
   "execution_count": 18
  },
  {
   "metadata": {
    "ExecuteTime": {
     "end_time": "2025-10-27T03:07:06.695978Z",
     "start_time": "2025-10-27T03:07:06.471323Z"
    }
   },
   "cell_type": "code",
   "source": "!ls -lh *.bin",
   "id": "772e6231cb207312",
   "outputs": [
    {
     "name": "stdout",
     "output_type": "stream",
     "text": [
      "-rw-r--r--@ 1 sriram  staff   2.4K Oct 27 08:36 model_C=1.0.bin\r\n"
     ]
    }
   ],
   "execution_count": 19
  }
 ],
 "metadata": {
  "kernelspec": {
   "display_name": "Python 3",
   "language": "python",
   "name": "python3"
  },
  "language_info": {
   "codemirror_mode": {
    "name": "ipython",
    "version": 2
   },
   "file_extension": ".py",
   "mimetype": "text/x-python",
   "name": "python",
   "nbconvert_exporter": "python",
   "pygments_lexer": "ipython2",
   "version": "2.7.6"
  }
 },
 "nbformat": 4,
 "nbformat_minor": 5
}
