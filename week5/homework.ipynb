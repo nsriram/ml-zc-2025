{
 "cells": [
  {
   "metadata": {},
   "cell_type": "markdown",
   "source": [
    "## Question 1\n",
    "- Install uv\n",
    "- What's the version of uv you installed?\n",
    "- Use --version to find out\n"
   ],
   "id": "bd3acedb70335887"
  },
  {
   "metadata": {
    "ExecuteTime": {
     "end_time": "2025-10-27T15:58:33.719371Z",
     "start_time": "2025-10-27T15:58:33.590932Z"
    }
   },
   "cell_type": "code",
   "source": "!uv --version",
   "id": "4acce00709822a04",
   "outputs": [
    {
     "name": "stdout",
     "output_type": "stream",
     "text": [
      "uv 0.7.12 (Homebrew 2025-06-06)\r\n"
     ]
    }
   ],
   "execution_count": 2
  },
  {
   "metadata": {},
   "cell_type": "markdown",
   "source": "## Question 2",
   "id": "6de49aa4ee63ef96"
  },
  {
   "metadata": {
    "ExecuteTime": {
     "end_time": "2025-10-27T16:03:11.434069Z",
     "start_time": "2025-10-27T16:03:11.286724Z"
    }
   },
   "cell_type": "code",
   "source": [
    "# Use uv to install Scikit-Learn version 1.6.1\n",
    "# What's the first hash for Scikit-Learn you get in the lock file?\n",
    "# Include the entire string starting with sha256:, don't include quotes\n",
    "!uv add scikit-learn==1.6.1"
   ],
   "id": "c8236e3e559900b",
   "outputs": [
    {
     "name": "stdout",
     "output_type": "stream",
     "text": [
      "\u001B[2mResolved \u001B[1m125 packages\u001B[0m \u001B[2min 1ms\u001B[0m\u001B[0m\r\n",
      "\u001B[2mAudited \u001B[1m121 packages\u001B[0m \u001B[2min 0.02ms\u001B[0m\u001B[0m\r\n"
     ]
    }
   ],
   "execution_count": 5
  },
  {
   "metadata": {
    "ExecuteTime": {
     "end_time": "2025-10-27T16:08:44.546184Z",
     "start_time": "2025-10-27T16:08:44.414104Z"
    }
   },
   "cell_type": "code",
   "source": "!grep -i \"scikit_learn-1.6.1.tar.gz\" ../uv.lock",
   "id": "3adedc149d9d0bef",
   "outputs": [
    {
     "name": "stdout",
     "output_type": "stream",
     "text": [
      "sdist = { url = \"https://files.pythonhosted.org/packages/9e/a5/4ae3b3a0755f7b35a280ac90b28817d1f380318973cff14075ab41ef50d9/scikit_learn-1.6.1.tar.gz\", hash = \"sha256:b4fc2525eca2c69a59260f583c56a7557c6ccdf8deafdba6e060f94c1c59738e\", size = 7068312, upload-time = \"2025-01-10T08:07:55.348Z\" }\r\n"
     ]
    }
   ],
   "execution_count": 9
  },
  {
   "metadata": {
    "ExecuteTime": {
     "end_time": "2025-10-27T16:09:46.602145Z",
     "start_time": "2025-10-27T16:09:45.598937Z"
    }
   },
   "cell_type": "code",
   "source": "!wget https://github.com/DataTalksClub/machine-learning-zoomcamp/raw/refs/heads/master/cohorts/2025/05-deployment/pipeline_v1.bin",
   "id": "e510ac2ca2e3c987",
   "outputs": [
    {
     "name": "stdout",
     "output_type": "stream",
     "text": [
      "--2025-10-27 21:39:45--  https://github.com/DataTalksClub/machine-learning-zoomcamp/raw/refs/heads/master/cohorts/2025/05-deployment/pipeline_v1.bin\r\n",
      "Resolving github.com (github.com)... 20.207.73.82\r\n",
      "Connecting to github.com (github.com)|20.207.73.82|:443... connected.\r\n",
      "HTTP request sent, awaiting response... 302 Found\r\n",
      "Location: https://raw.githubusercontent.com/DataTalksClub/machine-learning-zoomcamp/refs/heads/master/cohorts/2025/05-deployment/pipeline_v1.bin [following]\r\n",
      "--2025-10-27 21:39:46--  https://raw.githubusercontent.com/DataTalksClub/machine-learning-zoomcamp/refs/heads/master/cohorts/2025/05-deployment/pipeline_v1.bin\r\n",
      "Resolving raw.githubusercontent.com (raw.githubusercontent.com)... 185.199.110.133, 185.199.109.133, 185.199.108.133, ...\r\n",
      "Connecting to raw.githubusercontent.com (raw.githubusercontent.com)|185.199.110.133|:443... connected.\r\n",
      "HTTP request sent, awaiting response... 200 OK\r\n",
      "Length: 1300 (1.3K) [application/octet-stream]\r\n",
      "Saving to: ‘pipeline_v1.bin’\r\n",
      "\r\n",
      "pipeline_v1.bin     100%[===================>]   1.27K  --.-KB/s    in 0s      \r\n",
      "\r\n",
      "2025-10-27 21:39:46 (155 MB/s) - ‘pipeline_v1.bin’ saved [1300/1300]\r\n",
      "\r\n"
     ]
    }
   ],
   "execution_count": 10
  },
  {
   "metadata": {
    "ExecuteTime": {
     "end_time": "2025-10-27T16:11:50.641554Z",
     "start_time": "2025-10-27T16:11:50.482746Z"
    }
   },
   "cell_type": "code",
   "source": [
    "# verify the model checksum to be 7d17d2e4dfbaf1e408e1a62e6e880d49\n",
    "!md5 pipeline_v1.bin"
   ],
   "id": "ad5754cf27cd49d4",
   "outputs": [
    {
     "name": "stdout",
     "output_type": "stream",
     "text": [
      "MD5 (pipeline_v1.bin) = 7d17d2e4dfbaf1e408e1a62e6e880d49\r\n"
     ]
    }
   ],
   "execution_count": 12
  },
  {
   "metadata": {},
   "cell_type": "markdown",
   "source": "## Question 3",
   "id": "1a30427cdad8a512"
  },
  {
   "metadata": {
    "ExecuteTime": {
     "end_time": "2025-10-27T16:11:05.570219Z",
     "start_time": "2025-10-27T16:10:50.748232Z"
    }
   },
   "cell_type": "code",
   "source": [
    "# Let's use the model!\n",
    "# Write a script for loading the pipeline with pickle\n",
    "import pickle\n",
    "with open('pipeline_v1.bin', 'rb') as f_in:\n",
    "    dv, model = pickle.load(f_in)\n",
    "\n",
    "# Score this record:\n",
    "record = {\n",
    "    \"lead_source\": \"paid_ads\",\n",
    "    \"number_of_courses_viewed\": 2,\n",
    "    \"annual_income\": 79276.0\n",
    "}\n",
    "X = dv.transform([record])\n",
    "y_pred = model.predict_proba(X)[:, 1]\n",
    "print(y_pred)"
   ],
   "id": "80772b531b0b0ed",
   "outputs": [
    {
     "name": "stdout",
     "output_type": "stream",
     "text": [
      "[0.53360727]\n"
     ]
    }
   ],
   "execution_count": 11
  },
  {
   "metadata": {},
   "cell_type": "markdown",
   "source": "## Question 4",
   "id": "383914335ad7fbc4"
  },
  {
   "metadata": {
    "ExecuteTime": {
     "end_time": "2025-10-27T16:12:32.058455Z",
     "start_time": "2025-10-27T16:12:31.189672Z"
    }
   },
   "cell_type": "code",
   "source": [
    "# Now let's serve this model as a web service\n",
    "# Install FastAPI\n",
    "!uv add fastapi uvicorn"
   ],
   "id": "8236b7bcbb80b268",
   "outputs": [
    {
     "name": "stdout",
     "output_type": "stream",
     "text": [
      "\u001B[2K\u001B[2mResolved \u001B[1m133 packages\u001B[0m \u001B[2min 411ms\u001B[0m\u001B[0m                                       \u001B[0m\r\n",
      "\u001B[2K\u001B[2mPrepared \u001B[1m8 packages\u001B[0m \u001B[2min 216ms\u001B[0m\u001B[0m                                             \r\n",
      "\u001B[2K\u001B[2mInstalled \u001B[1m8 packages\u001B[0m \u001B[2min 5ms\u001B[0m\u001B[0m                                 \u001B[0m\r\n",
      " \u001B[32m+\u001B[39m \u001B[1mannotated-doc\u001B[0m\u001B[2m==0.0.3\u001B[0m\r\n",
      " \u001B[32m+\u001B[39m \u001B[1mannotated-types\u001B[0m\u001B[2m==0.7.0\u001B[0m\r\n",
      " \u001B[32m+\u001B[39m \u001B[1mfastapi\u001B[0m\u001B[2m==0.120.0\u001B[0m\r\n",
      " \u001B[32m+\u001B[39m \u001B[1mpydantic\u001B[0m\u001B[2m==2.12.3\u001B[0m\r\n",
      " \u001B[32m+\u001B[39m \u001B[1mpydantic-core\u001B[0m\u001B[2m==2.41.4\u001B[0m\r\n",
      " \u001B[32m+\u001B[39m \u001B[1mstarlette\u001B[0m\u001B[2m==0.48.0\u001B[0m\r\n",
      " \u001B[32m+\u001B[39m \u001B[1mtyping-inspection\u001B[0m\u001B[2m==0.4.2\u001B[0m\r\n",
      " \u001B[32m+\u001B[39m \u001B[1muvicorn\u001B[0m\u001B[2m==0.38.0\u001B[0m\r\n"
     ]
    }
   ],
   "execution_count": 13
  },
  {
   "metadata": {},
   "cell_type": "code",
   "source": [
    "# Write FastAPI code for serving the model\n",
    "from fastapi import FastAPI\n",
    "from pydantic import BaseModel\n",
    "import pickle\n",
    "import uvicorn\n",
    "\n",
    "with open('pipeline_v1.bin', 'rb') as f_in:\n",
    "    pipeline = pickle.load(f_in)\n",
    "\n",
    "app = FastAPI()\n",
    "class LeadData(BaseModel):\n",
    "    lead_source: str\n",
    "    number_of_courses_viewed: int\n",
    "    annual_income: float\n",
    "\n",
    "class ConvertResponse(BaseModel):\n",
    "    conversion_probability: float\n",
    "    is_converted: bool\n",
    "\n",
    "def predict_single(lead_data):\n",
    "    result = pipeline.predict_proba(lead_data)[0, 1]\n",
    "    return float(result)\n",
    "\n",
    "\n",
    "@app.post(\"/predict\")\n",
    "def predict(lead_data: LeadData) -> ConvertResponse:\n",
    "    conversion_probability = predict_single(lead_data.model_dump())\n",
    "    is_converted = conversion_probability >= 0.5\n",
    "    return ConvertResponse(\n",
    "        conversion_probability=conversion_probability,\n",
    "        is_converted=is_converted\n",
    "    )\n",
    "if __name__ == \"__main__\":\n",
    "    uvicorn.run(app, host=\"0.0.0.0\", port=8080)"
   ],
   "id": "2837de034031684f",
   "outputs": [],
   "execution_count": null
  },
  {
   "metadata": {
    "ExecuteTime": {
     "end_time": "2025-10-27T16:27:31.950744Z",
     "start_time": "2025-10-27T16:27:31.893089Z"
    }
   },
   "cell_type": "code",
   "source": [
    "# Now score this client using requests:\n",
    "import requests\n",
    "\n",
    "url = \"http://localhost:8080/predict\"\n",
    "client = {\n",
    "    \"lead_source\": \"organic_search\",\n",
    "    \"number_of_courses_viewed\": 4,\n",
    "    \"annual_income\": 80304.0\n",
    "}\n",
    "\n",
    "requests.post(url, json=client).json()"
   ],
   "id": "27864559c1d3849c",
   "outputs": [
    {
     "data": {
      "text/plain": [
       "{'conversion_probability': 0.5340417283801275, 'is_converted': True}"
      ]
     },
     "execution_count": 15,
     "metadata": {},
     "output_type": "execute_result"
    }
   ],
   "execution_count": 15
  },
  {
   "metadata": {},
   "cell_type": "markdown",
   "source": "## Question 5",
   "id": "4f2c3e311f020c7"
  },
  {
   "metadata": {
    "ExecuteTime": {
     "end_time": "2025-10-27T16:28:47.018768Z",
     "start_time": "2025-10-27T16:28:37.593707Z"
    }
   },
   "cell_type": "code",
   "source": [
    "# Download the base image agrigorev/zoomcamp-model:2025. You can easily make it by using docker pull command.\n",
    "!docker pull agrigorev/zoomcamp-model:2025"
   ],
   "id": "7a574593877650d6",
   "outputs": [
    {
     "name": "stdout",
     "output_type": "stream",
     "text": [
      "2025: Pulling from agrigorev/zoomcamp-model\r\n",
      "\r\n",
      "\u001B[1B9c0578b5: Pulling fs layer \r\n",
      "\u001B[1B2667830b: Pulling fs layer \r\n",
      "\u001B[1B2b9cc6ee: Pulling fs layer \r\n",
      "\u001B[1Bf5177ae2: Pulling fs layer \r\n",
      "\u001B[1B357cf7a1: Pulling fs layer \r\n",
      "\u001B[5B2667830b: Download complete MB/28.23MBA\u001B[2K\u001B[1A\u001B[2K\u001B[1A\u001B[2K\u001B[1A\u001B[2K\u001B[3A\u001B[2K\u001B[3A\u001B[2K\u001B[5A\u001B[2K\u001B[3A\u001B[2K\u001B[3A\u001B[2K\u001B[5A\u001B[2K\u001B[3A\u001B[2K\u001B[5A\u001B[2K\u001B[5A\u001B[2K\u001B[3A\u001B[2K\u001B[5A\u001B[2K\u001B[5A\u001B[2K\u001B[5A\u001B[2K\u001B[5A\u001B[2K\u001B[5A\u001B[2K\u001B[5A\u001B[2KDigest: sha256:14d79fde0bbf078eb18c99c2bd007205917b758ec11060b2994963a1e485c2ae\r\n",
      "Status: Downloaded newer image for agrigorev/zoomcamp-model:2025\r\n",
      "docker.io/agrigorev/zoomcamp-model:2025\r\n"
     ]
    }
   ],
   "execution_count": 16
  },
  {
   "metadata": {
    "ExecuteTime": {
     "end_time": "2025-10-27T16:29:23.098555Z",
     "start_time": "2025-10-27T16:29:22.905743Z"
    }
   },
   "cell_type": "code",
   "source": [
    "# So what's the size of this base image?\n",
    "!docker images | grep -i \"agrigorev/zoomcamp-model\""
   ],
   "id": "e108a8e9824c3446",
   "outputs": [
    {
     "name": "stdout",
     "output_type": "stream",
     "text": [
      "agrigorev/zoomcamp-model   2025      14d79fde0bbf   6 days ago    181MB\r\n"
     ]
    }
   ],
   "execution_count": 18
  },
  {
   "metadata": {},
   "cell_type": "markdown",
   "source": "**Note** : The size is 181MB. Hence the nearest option of 245 MB chosen.",
   "id": "58cf965c4cb9ba05"
  },
  {
   "metadata": {},
   "cell_type": "markdown",
   "source": "## Question 6",
   "id": "119c72f9085f7d10"
  },
  {
   "metadata": {},
   "cell_type": "markdown",
   "source": [
    "Dockerfile\n",
    "\n",
    "```\n",
    "FROM agrigorev/zoomcamp-model:2025\n",
    "\n",
    "COPY --from=ghcr.io/astral-sh/uv:latest /uv /uvx /bin/\n",
    "WORKDIR /code\n",
    "\n",
    "ENV PATH=\"/code/.venv/bin:$PATH\"\n",
    "\n",
    "COPY \"pyproject.toml\" \"uv.lock\" \".python-version\" ./\n",
    "RUN uv sync --locked\n",
    "\n",
    "COPY \"week5/predict-homework.py\" ./predict.py\n",
    "\n",
    "EXPOSE 8080\n",
    "\n",
    "ENTRYPOINT [\"uvicorn\", \"predict:app\", \"--host\", \"0.0.0.0\", \"--port\", \"8080\"]\n",
    "\n",
    "```"
   ],
   "id": "8142e56f91a3e426"
  },
  {
   "metadata": {},
   "cell_type": "markdown",
   "source": [
    "Build the dockerfile (on mac amd64)\n",
    "\n",
    "```\n",
    "docker build --platform linux/amd64 -t lead-prediction .\n",
    "```"
   ],
   "id": "9cc5d8cec657768e"
  },
  {
   "metadata": {},
   "cell_type": "markdown",
   "source": [
    "Run the container\n",
    "\n",
    "```\n",
    "docker run -it --rm -p 8080:8080 lead-prediction\n",
    "```"
   ],
   "id": "386ddf02ddb307f8"
  },
  {
   "metadata": {
    "ExecuteTime": {
     "end_time": "2025-10-27T16:55:27.294765Z",
     "start_time": "2025-10-27T16:55:27.161365Z"
    }
   },
   "cell_type": "code",
   "source": [
    "# After running it, score this client once again:\n",
    "import requests\n",
    "\n",
    "url = \"http://localhost:8080/predict\"\n",
    "\n",
    "client = {\n",
    "    \"lead_source\": \"organic_search\",\n",
    "    \"number_of_courses_viewed\": 4,\n",
    "    \"annual_income\": 80304.0\n",
    "}\n",
    "\n",
    "requests.post(url, json=client).json()"
   ],
   "id": "349d9d5f63d79da6",
   "outputs": [
    {
     "data": {
      "text/plain": [
       "{'conversion_probability': 0.9933071490756734, 'is_converted': True}"
      ]
     },
     "execution_count": 19,
     "metadata": {},
     "output_type": "execute_result"
    }
   ],
   "execution_count": 19
  },
  {
   "metadata": {},
   "cell_type": "code",
   "outputs": [],
   "execution_count": null,
   "source": "",
   "id": "6b823b72ac78f024"
  }
 ],
 "metadata": {
  "kernelspec": {
   "display_name": "Python 3",
   "language": "python",
   "name": "python3"
  },
  "language_info": {
   "codemirror_mode": {
    "name": "ipython",
    "version": 2
   },
   "file_extension": ".py",
   "mimetype": "text/x-python",
   "name": "python",
   "nbconvert_exporter": "python",
   "pygments_lexer": "ipython2",
   "version": "2.7.6"
  }
 },
 "nbformat": 4,
 "nbformat_minor": 5
}
