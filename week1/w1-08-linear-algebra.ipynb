{
 "cells": [
  {
   "cell_type": "code",
   "id": "initial_id",
   "metadata": {
    "collapsed": true,
    "ExecuteTime": {
     "end_time": "2025-10-02T15:09:15.473420Z",
     "start_time": "2025-10-02T15:09:15.471919Z"
    }
   },
   "source": [
    "import numpy as np\n",
    "import pandas as pd\n",
    "\n",
    "# Removes the limit for the number of displayed columns\n",
    "pd.set_option(\"display.max_columns\", None)\n",
    "# Sets the limit for the number of displayed rows\n",
    "pd.set_option(\"display.max_rows\", 100)\n",
    "\n",
    "# import and filter warnings\n",
    "import warnings\n",
    "warnings.filterwarnings(\"ignore\")"
   ],
   "outputs": [],
   "execution_count": 1
  },
  {
   "metadata": {},
   "cell_type": "markdown",
   "source": "#### Declaration",
   "id": "b517656cfeb6f43f"
  },
  {
   "metadata": {
    "ExecuteTime": {
     "end_time": "2025-10-02T15:09:57.407642Z",
     "start_time": "2025-10-02T15:09:57.405288Z"
    }
   },
   "cell_type": "code",
   "source": [
    "# Declare vectors u, v\n",
    "u = np.array([2,4,6,8])\n",
    "v = np.array([1,0,0,2])"
   ],
   "id": "2219952b0262e3e1",
   "outputs": [],
   "execution_count": 2
  },
  {
   "metadata": {},
   "cell_type": "markdown",
   "source": "#### Addition",
   "id": "69eb2c12cb08ebca"
  },
  {
   "metadata": {
    "ExecuteTime": {
     "end_time": "2025-10-02T15:10:12.975975Z",
     "start_time": "2025-10-02T15:10:12.970820Z"
    }
   },
   "cell_type": "code",
   "source": [
    "# vector addition\n",
    "u_plus_v = u + v\n",
    "u_plus_v"
   ],
   "id": "21d8cbb4321c58a3",
   "outputs": [
    {
     "data": {
      "text/plain": [
       "array([ 3,  4,  6, 10])"
      ]
     },
     "execution_count": 3,
     "metadata": {},
     "output_type": "execute_result"
    }
   ],
   "execution_count": 3
  },
  {
   "metadata": {},
   "cell_type": "markdown",
   "source": "#### Multiply by scalar",
   "id": "b5f9e2aceb9e2816"
  },
  {
   "metadata": {
    "ExecuteTime": {
     "end_time": "2025-10-02T15:12:06.759123Z",
     "start_time": "2025-10-02T15:12:06.755539Z"
    }
   },
   "cell_type": "code",
   "source": "3 * u",
   "id": "7afc4c96808ada5d",
   "outputs": [
    {
     "data": {
      "text/plain": [
       "array([ 6, 12, 18, 24])"
      ]
     },
     "execution_count": 6,
     "metadata": {},
     "output_type": "execute_result"
    }
   ],
   "execution_count": 6
  },
  {
   "metadata": {},
   "cell_type": "markdown",
   "source": "#### Vector x Vector multiplication (dot product)",
   "id": "60b510a8212cc1e4"
  },
  {
   "metadata": {
    "ExecuteTime": {
     "end_time": "2025-10-02T15:11:38.904118Z",
     "start_time": "2025-10-02T15:11:38.902046Z"
    }
   },
   "cell_type": "code",
   "source": [
    "# element-wise multiplication\n",
    "u * v"
   ],
   "id": "7db4da09ae9ee5b3",
   "outputs": [
    {
     "data": {
      "text/plain": [
       "array([ 2,  0,  0, 16])"
      ]
     },
     "execution_count": 5,
     "metadata": {},
     "output_type": "execute_result"
    }
   ],
   "execution_count": 5
  },
  {
   "metadata": {
    "ExecuteTime": {
     "end_time": "2025-10-02T15:15:38.162316Z",
     "start_time": "2025-10-02T15:15:38.159510Z"
    }
   },
   "cell_type": "code",
   "source": [
    "# vectors should have the same size\n",
    "def vector_vector_multiplication(a, b):\n",
    "    assert a.shape[0] == b.shape[0]\n",
    "\n",
    "    n = a.shape[0]\n",
    "\n",
    "    result = 0.0\n",
    "\n",
    "    for i in range(n):\n",
    "        result = result + a[i] * b[i]\n",
    "\n",
    "    return result"
   ],
   "id": "6dffbf6af2280227",
   "outputs": [],
   "execution_count": 8
  },
  {
   "metadata": {
    "ExecuteTime": {
     "end_time": "2025-10-02T15:15:45.156738Z",
     "start_time": "2025-10-02T15:15:45.153617Z"
    }
   },
   "cell_type": "code",
   "source": "vector_vector_multiplication(u, v)",
   "id": "965e9d306de97813",
   "outputs": [
    {
     "data": {
      "text/plain": [
       "np.float64(18.0)"
      ]
     },
     "execution_count": 9,
     "metadata": {},
     "output_type": "execute_result"
    }
   ],
   "execution_count": 9
  },
  {
   "metadata": {
    "ExecuteTime": {
     "end_time": "2025-10-02T15:16:45.244363Z",
     "start_time": "2025-10-02T15:16:45.241271Z"
    }
   },
   "cell_type": "code",
   "source": [
    "# use numpy inbuilt function for dot product\n",
    "u.dot(v)"
   ],
   "id": "c067b6849822a5f0",
   "outputs": [
    {
     "data": {
      "text/plain": [
       "np.int64(18)"
      ]
     },
     "execution_count": 10,
     "metadata": {},
     "output_type": "execute_result"
    }
   ],
   "execution_count": 10
  },
  {
   "metadata": {},
   "cell_type": "markdown",
   "source": [
    "#### Matrix vector multiplication\n",
    "- Transpose U and multiply by v"
   ],
   "id": "b1394843febe92bb"
  },
  {
   "metadata": {
    "ExecuteTime": {
     "end_time": "2025-10-02T15:22:16.763437Z",
     "start_time": "2025-10-02T15:22:16.760009Z"
    }
   },
   "cell_type": "code",
   "source": [
    "def matrix_vector_multiplication(A, b):\n",
    "    assert A.shape[1] == b.shape[0]\n",
    "\n",
    "    num_rows = A.shape[0]\n",
    "\n",
    "    result = np.zeros(num_rows)\n",
    "\n",
    "    for i in range(num_rows):\n",
    "        result[i] = vector_vector_multiplication(A[i], b)\n",
    "\n",
    "    return result"
   ],
   "id": "6e1ae55edd33e957",
   "outputs": [],
   "execution_count": 26
  },
  {
   "metadata": {
    "ExecuteTime": {
     "end_time": "2025-10-02T15:23:10.065426Z",
     "start_time": "2025-10-02T15:23:10.062945Z"
    }
   },
   "cell_type": "code",
   "source": [
    "# matrix_vector_multiplication example\n",
    "A = np.array([[1,2,3], [4,5,6]])\n",
    "b = np.array([7,8,9])\n",
    "matrix_vector_multiplication(A, b)"
   ],
   "id": "7d08f644ad249ffb",
   "outputs": [
    {
     "data": {
      "text/plain": [
       "array([ 50., 122.])"
      ]
     },
     "execution_count": 30,
     "metadata": {},
     "output_type": "execute_result"
    }
   ],
   "execution_count": 30
  },
  {
   "metadata": {
    "ExecuteTime": {
     "end_time": "2025-10-02T15:24:25.743995Z",
     "start_time": "2025-10-02T15:24:25.740017Z"
    }
   },
   "cell_type": "code",
   "source": [
    "# using Numpy inbuilt function\n",
    "A.dot(b)"
   ],
   "id": "edf254f576d330f8",
   "outputs": [
    {
     "data": {
      "text/plain": [
       "array([ 50, 122])"
      ]
     },
     "execution_count": 33,
     "metadata": {},
     "output_type": "execute_result"
    }
   ],
   "execution_count": 33
  },
  {
   "metadata": {},
   "cell_type": "markdown",
   "source": "### Matrix x Matrix multiplication",
   "id": "cacb06cb58061691"
  },
  {
   "metadata": {
    "ExecuteTime": {
     "end_time": "2025-10-02T15:23:49.062564Z",
     "start_time": "2025-10-02T15:23:49.060744Z"
    }
   },
   "cell_type": "code",
   "source": [
    "def matrix_matrix_multiplication(U, V):\n",
    "    assert U.shape[1] == V.shape[0]\n",
    "\n",
    "    num_rows = U.shape[0]\n",
    "    num_cols = V.shape[1]\n",
    "\n",
    "    result = np.zeros((num_rows, num_cols))\n",
    "\n",
    "    for i in range(num_cols):\n",
    "        vi = V[:, i]\n",
    "        Uvi = matrix_vector_multiplication(U, vi)\n",
    "        result[:, i] = Uvi\n",
    "\n",
    "    return result"
   ],
   "id": "2f248ba6409c2feb",
   "outputs": [],
   "execution_count": 31
  },
  {
   "metadata": {
    "ExecuteTime": {
     "end_time": "2025-10-02T15:25:54.677049Z",
     "start_time": "2025-10-02T15:25:54.674367Z"
    }
   },
   "cell_type": "code",
   "source": [
    "# Example for matrix_matrix_multiplication by 2x3, 3x2 matrices\n",
    "# declare 2x3 matrix\n",
    "mat1 = np.array([[1,2,3], [4,5,6]])\n",
    "\n",
    "# declare 3x2 matrix\n",
    "mat2 = np.array([[7,8], [9,10], [11,12]])"
   ],
   "id": "cdb5cfc1a272a47c",
   "outputs": [],
   "execution_count": 38
  },
  {
   "metadata": {
    "ExecuteTime": {
     "end_time": "2025-10-02T15:25:28.784563Z",
     "start_time": "2025-10-02T15:25:28.782094Z"
    }
   },
   "cell_type": "code",
   "source": [
    "# Result should be 2x2 matrix\n",
    "matrix_matrix_multiplication(mat1, mat2)"
   ],
   "id": "e19069e1333fe3a4",
   "outputs": [
    {
     "data": {
      "text/plain": [
       "array([[ 58.,  64.],\n",
       "       [139., 154.]])"
      ]
     },
     "execution_count": 37,
     "metadata": {},
     "output_type": "execute_result"
    }
   ],
   "execution_count": 37
  },
  {
   "metadata": {},
   "cell_type": "markdown",
   "source": [
    "### Identity Matrix\n",
    "- Diagonal is 1, rest are 0\n",
    "- denoted by I"
   ],
   "id": "aff869de60d571bb"
  },
  {
   "metadata": {
    "ExecuteTime": {
     "end_time": "2025-10-02T15:27:45.825277Z",
     "start_time": "2025-10-02T15:27:45.822937Z"
    }
   },
   "cell_type": "code",
   "source": [
    "# numpy inbuilt function to create identity matrix\n",
    "I = np.eye(4)\n",
    "I"
   ],
   "id": "512f39dc82a48950",
   "outputs": [
    {
     "data": {
      "text/plain": [
       "array([[1., 0., 0., 0.],\n",
       "       [0., 1., 0., 0.],\n",
       "       [0., 0., 1., 0.],\n",
       "       [0., 0., 0., 1.]])"
      ]
     },
     "execution_count": 40,
     "metadata": {},
     "output_type": "execute_result"
    }
   ],
   "execution_count": 40
  },
  {
   "metadata": {
    "ExecuteTime": {
     "end_time": "2025-10-02T15:28:04.865700Z",
     "start_time": "2025-10-02T15:28:04.863346Z"
    }
   },
   "cell_type": "code",
   "source": [
    "# multiply identity matrix with another matrix\n",
    "A = np.array([[1,2,3], [4,5,6], [7,8,9], [10,11,12]])\n",
    "I.dot(A)"
   ],
   "id": "2fd4b88cababf67a",
   "outputs": [
    {
     "data": {
      "text/plain": [
       "array([[ 1.,  2.,  3.],\n",
       "       [ 4.,  5.,  6.],\n",
       "       [ 7.,  8.,  9.],\n",
       "       [10., 11., 12.]])"
      ]
     },
     "execution_count": 41,
     "metadata": {},
     "output_type": "execute_result"
    }
   ],
   "execution_count": 41
  },
  {
   "metadata": {},
   "cell_type": "markdown",
   "source": [
    "### Inverse Matrix\n",
    "- Denoted by A^-1\n",
    "- Array must be square"
   ],
   "id": "591fe7840a4bd8cc"
  },
  {
   "metadata": {
    "ExecuteTime": {
     "end_time": "2025-10-02T15:29:49.301501Z",
     "start_time": "2025-10-02T15:29:49.299197Z"
    }
   },
   "cell_type": "code",
   "source": "a = np.array([[1,2,3], [4,5,6], [7,8,10]])",
   "id": "ab069fa29d49bb33",
   "outputs": [],
   "execution_count": 46
  },
  {
   "metadata": {
    "ExecuteTime": {
     "end_time": "2025-10-02T15:29:49.843003Z",
     "start_time": "2025-10-02T15:29:49.841090Z"
    }
   },
   "cell_type": "code",
   "source": "a",
   "id": "10a6f70b104aa6fb",
   "outputs": [
    {
     "data": {
      "text/plain": [
       "array([[ 1,  2,  3],\n",
       "       [ 4,  5,  6],\n",
       "       [ 7,  8, 10]])"
      ]
     },
     "execution_count": 47,
     "metadata": {},
     "output_type": "execute_result"
    }
   ],
   "execution_count": 47
  },
  {
   "metadata": {
    "ExecuteTime": {
     "end_time": "2025-10-02T15:29:50.948025Z",
     "start_time": "2025-10-02T15:29:50.944190Z"
    }
   },
   "cell_type": "code",
   "source": "np.linalg.inv(a)",
   "id": "98e88ad1326d936a",
   "outputs": [
    {
     "data": {
      "text/plain": [
       "array([[-0.66666667, -1.33333333,  1.        ],\n",
       "       [-0.66666667,  3.66666667, -2.        ],\n",
       "       [ 1.        , -2.        ,  1.        ]])"
      ]
     },
     "execution_count": 48,
     "metadata": {},
     "output_type": "execute_result"
    }
   ],
   "execution_count": 48
  },
  {
   "metadata": {},
   "cell_type": "code",
   "outputs": [],
   "execution_count": null,
   "source": "",
   "id": "59813644330d0df7"
  }
 ],
 "metadata": {
  "kernelspec": {
   "display_name": "Python 3",
   "language": "python",
   "name": "python3"
  },
  "language_info": {
   "codemirror_mode": {
    "name": "ipython",
    "version": 2
   },
   "file_extension": ".py",
   "mimetype": "text/x-python",
   "name": "python",
   "nbconvert_exporter": "python",
   "pygments_lexer": "ipython2",
   "version": "2.7.6"
  }
 },
 "nbformat": 4,
 "nbformat_minor": 5
}
