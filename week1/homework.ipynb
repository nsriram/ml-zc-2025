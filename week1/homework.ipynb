{
 "cells": [
  {
   "metadata": {
    "ExecuteTime": {
     "end_time": "2025-10-02T14:36:52.364916Z",
     "start_time": "2025-10-02T14:36:49.353292Z"
    }
   },
   "cell_type": "code",
   "source": [
    "import numpy as np\n",
    "import pandas as pd\n",
    "\n",
    "import sklearn\n",
    "\n",
    "# Libraries to help with data visualization\n",
    "import matplotlib.pyplot as plt\n",
    "import seaborn as sns\n",
    "\n",
    "# Removes the limit for the number of displayed columns\n",
    "pd.set_option(\"display.max_columns\", None)\n",
    "# Sets the limit for the number of displayed rows\n",
    "pd.set_option(\"display.max_rows\", 100)\n",
    "\n",
    "# import and filter warnings\n",
    "import warnings\n",
    "warnings.filterwarnings(\"ignore\")"
   ],
   "id": "1169ff3b983d3e97",
   "outputs": [],
   "execution_count": 3
  },
  {
   "metadata": {},
   "cell_type": "markdown",
   "source": "#### Question 1. Pandas version",
   "id": "6a601bb54c0973b"
  },
  {
   "cell_type": "code",
   "id": "initial_id",
   "metadata": {
    "collapsed": true,
    "ExecuteTime": {
     "end_time": "2025-10-02T14:36:58.129273Z",
     "start_time": "2025-10-02T14:36:58.126538Z"
    }
   },
   "source": "print(pd.__version__)",
   "outputs": [
    {
     "name": "stdout",
     "output_type": "stream",
     "text": [
      "2.3.3\n"
     ]
    }
   ],
   "execution_count": 4
  },
  {
   "metadata": {},
   "cell_type": "markdown",
   "source": "#### Question 2. Records count",
   "id": "d1cf824ede9a10b"
  },
  {
   "metadata": {
    "ExecuteTime": {
     "end_time": "2025-10-02T15:36:10.763323Z",
     "start_time": "2025-10-02T15:36:09.802306Z"
    }
   },
   "cell_type": "code",
   "source": "!wget https://raw.githubusercontent.com/alexeygrigorev/datasets/master/car_fuel_efficiency.csv",
   "id": "2cd464e53be59f8d",
   "outputs": [
    {
     "name": "stdout",
     "output_type": "stream",
     "text": [
      "--2025-10-02 21:06:10--  https://raw.githubusercontent.com/alexeygrigorev/datasets/master/car_fuel_efficiency.csv\r\n",
      "Resolving raw.githubusercontent.com (raw.githubusercontent.com)... 185.199.111.133, 185.199.109.133, 185.199.110.133, ...\r\n",
      "Connecting to raw.githubusercontent.com (raw.githubusercontent.com)|185.199.111.133|:443... connected.\r\n",
      "HTTP request sent, awaiting response... 200 OK\r\n",
      "Length: 874188 (854K) [text/plain]\r\n",
      "Saving to: ‘car_fuel_efficiency.csv’\r\n",
      "\r\n",
      "car_fuel_efficiency 100%[===================>] 853.70K  4.78MB/s    in 0.2s    \r\n",
      "\r\n",
      "2025-10-02 21:06:10 (4.78 MB/s) - ‘car_fuel_efficiency.csv’ saved [874188/874188]\r\n",
      "\r\n"
     ]
    }
   ],
   "execution_count": 5
  },
  {
   "metadata": {
    "ExecuteTime": {
     "end_time": "2025-10-02T15:48:01.036923Z",
     "start_time": "2025-10-02T15:48:01.019567Z"
    }
   },
   "cell_type": "code",
   "source": [
    "# Load the data\n",
    "df = pd.read_csv(\"car_fuel_efficiency.csv\")"
   ],
   "id": "8812434dc8331881",
   "outputs": [],
   "execution_count": 6
  },
  {
   "metadata": {
    "ExecuteTime": {
     "end_time": "2025-10-02T15:49:04.550472Z",
     "start_time": "2025-10-02T15:49:04.547978Z"
    }
   },
   "cell_type": "code",
   "source": [
    "# How many records are in the dataset?\n",
    "df.shape[0]"
   ],
   "id": "55fcfc7fe5440594",
   "outputs": [
    {
     "data": {
      "text/plain": [
       "9704"
      ]
     },
     "execution_count": 9,
     "metadata": {},
     "output_type": "execute_result"
    }
   ],
   "execution_count": 9
  },
  {
   "metadata": {
    "ExecuteTime": {
     "end_time": "2025-10-02T15:49:20.136697Z",
     "start_time": "2025-10-02T15:49:20.134761Z"
    }
   },
   "cell_type": "code",
   "source": [
    "# or using len\n",
    "len(df)"
   ],
   "id": "5c13cb123445c9a6",
   "outputs": [
    {
     "data": {
      "text/plain": [
       "9704"
      ]
     },
     "execution_count": 10,
     "metadata": {},
     "output_type": "execute_result"
    }
   ],
   "execution_count": 10
  },
  {
   "metadata": {},
   "cell_type": "markdown",
   "source": "#### Question 3. Fuel Type",
   "id": "60f26fc46a47a4c6"
  },
  {
   "metadata": {
    "ExecuteTime": {
     "end_time": "2025-10-02T15:52:06.390677Z",
     "start_time": "2025-10-02T15:52:06.388404Z"
    }
   },
   "cell_type": "code",
   "source": [
    "# print the columns\n",
    "df.columns"
   ],
   "id": "d85995db94550518",
   "outputs": [
    {
     "data": {
      "text/plain": [
       "Index(['engine_displacement', 'num_cylinders', 'horsepower', 'vehicle_weight',\n",
       "       'acceleration', 'model_year', 'origin', 'fuel_type', 'drivetrain',\n",
       "       'num_doors', 'fuel_efficiency_mpg'],\n",
       "      dtype='object')"
      ]
     },
     "execution_count": 21,
     "metadata": {},
     "output_type": "execute_result"
    }
   ],
   "execution_count": 21
  },
  {
   "metadata": {
    "ExecuteTime": {
     "end_time": "2025-10-02T15:52:13.371009Z",
     "start_time": "2025-10-02T15:52:13.367847Z"
    }
   },
   "cell_type": "code",
   "source": [
    "# How many fuel types are presented in the dataset?\n",
    "df[\"fuel_type\"].nunique()"
   ],
   "id": "59a9cf6bae5437c",
   "outputs": [
    {
     "data": {
      "text/plain": [
       "2"
      ]
     },
     "execution_count": 22,
     "metadata": {},
     "output_type": "execute_result"
    }
   ],
   "execution_count": 22
  },
  {
   "metadata": {},
   "cell_type": "markdown",
   "source": "#### Question 4. Missing values",
   "id": "acceabbc8029e7c9"
  },
  {
   "metadata": {
    "ExecuteTime": {
     "end_time": "2025-10-02T15:53:11.033519Z",
     "start_time": "2025-10-02T15:53:11.029334Z"
    }
   },
   "cell_type": "code",
   "source": [
    "# How many columns in the dataset have missing values?\n",
    "df.isnull().sum()"
   ],
   "id": "92d421fc55f5b12f",
   "outputs": [
    {
     "data": {
      "text/plain": [
       "engine_displacement      0\n",
       "num_cylinders          482\n",
       "horsepower             708\n",
       "vehicle_weight           0\n",
       "acceleration           930\n",
       "model_year               0\n",
       "origin                   0\n",
       "fuel_type                0\n",
       "drivetrain               0\n",
       "num_doors              502\n",
       "fuel_efficiency_mpg      0\n",
       "dtype: int64"
      ]
     },
     "execution_count": 23,
     "metadata": {},
     "output_type": "execute_result"
    }
   ],
   "execution_count": 23
  },
  {
   "metadata": {},
   "cell_type": "markdown",
   "source": "#### Question 5. Max fuel efficiency",
   "id": "ee5964a5da18285"
  },
  {
   "metadata": {
    "ExecuteTime": {
     "end_time": "2025-10-02T15:54:32.777849Z",
     "start_time": "2025-10-02T15:54:32.773200Z"
    }
   },
   "cell_type": "code",
   "source": [
    "# What's the maximum fuel efficiency of cars from Asia?\n",
    "df[df[\"origin\"] == \"Asia\"][\"fuel_efficiency_mpg\"].max()"
   ],
   "id": "5bbddebb34079703",
   "outputs": [
    {
     "data": {
      "text/plain": [
       "np.float64(23.759122836520497)"
      ]
     },
     "execution_count": 24,
     "metadata": {},
     "output_type": "execute_result"
    }
   ],
   "execution_count": 24
  },
  {
   "metadata": {},
   "cell_type": "markdown",
   "source": "#### Q6. Median value of horsepower",
   "id": "a009da7483cae247"
  },
  {
   "metadata": {
    "ExecuteTime": {
     "end_time": "2025-10-02T15:56:35.870432Z",
     "start_time": "2025-10-02T15:56:35.866815Z"
    }
   },
   "cell_type": "code",
   "source": [
    "# Find the median value of the horsepower column in the dataset.\n",
    "median_hp = df[\"horsepower\"].median()\n",
    "median_hp"
   ],
   "id": "dc48bd35a9d49e16",
   "outputs": [
    {
     "data": {
      "text/plain": [
       "np.float64(149.0)"
      ]
     },
     "execution_count": 25,
     "metadata": {},
     "output_type": "execute_result"
    }
   ],
   "execution_count": 25
  },
  {
   "metadata": {
    "ExecuteTime": {
     "end_time": "2025-10-02T15:56:43.437308Z",
     "start_time": "2025-10-02T15:56:43.433537Z"
    }
   },
   "cell_type": "code",
   "source": [
    "# Next, calculate the most frequent value of the same horsepower column.\n",
    "most_frequent_hp = df[\"horsepower\"].mode()[0]"
   ],
   "id": "a01f200989cffe",
   "outputs": [],
   "execution_count": 26
  },
  {
   "metadata": {
    "ExecuteTime": {
     "end_time": "2025-10-02T15:57:15.415346Z",
     "start_time": "2025-10-02T15:57:15.411014Z"
    }
   },
   "cell_type": "code",
   "source": [
    "# Use the fillna method to fill the missing values in the horsepower column with the most frequent value from the previous step.\n",
    "df[\"horsepower\"].fillna(most_frequent_hp, inplace=True)\n",
    "df[\"horsepower\"].isnull().sum()"
   ],
   "id": "bbcf9dc98340c49f",
   "outputs": [
    {
     "data": {
      "text/plain": [
       "np.int64(0)"
      ]
     },
     "execution_count": 29,
     "metadata": {},
     "output_type": "execute_result"
    }
   ],
   "execution_count": 29
  },
  {
   "metadata": {
    "ExecuteTime": {
     "end_time": "2025-10-02T15:57:24.394335Z",
     "start_time": "2025-10-02T15:57:24.389569Z"
    }
   },
   "cell_type": "code",
   "source": [
    "# Now, calculate the median value of horsepower once again.\n",
    "new_median_hp = df[\"horsepower\"].median()\n",
    "new_median_hp"
   ],
   "id": "e912d3dfe7262864",
   "outputs": [
    {
     "data": {
      "text/plain": [
       "np.float64(152.0)"
      ]
     },
     "execution_count": 31,
     "metadata": {},
     "output_type": "execute_result"
    }
   ],
   "execution_count": 31
  },
  {
   "metadata": {},
   "cell_type": "markdown",
   "source": "### Q7. Sum of weights",
   "id": "e9cd13c185d5c901"
  },
  {
   "metadata": {
    "ExecuteTime": {
     "end_time": "2025-10-02T15:58:08.985847Z",
     "start_time": "2025-10-02T15:58:08.981397Z"
    }
   },
   "cell_type": "code",
   "source": [
    "# Select all the cars from Asia\n",
    "df_asia = df[df[\"origin\"] == \"Asia\"]"
   ],
   "id": "1428d98951c4a043",
   "outputs": [],
   "execution_count": 32
  },
  {
   "metadata": {
    "ExecuteTime": {
     "end_time": "2025-10-02T15:58:26.863042Z",
     "start_time": "2025-10-02T15:58:26.860666Z"
    }
   },
   "cell_type": "code",
   "source": [
    "# Select only columns vehicle_weight and model_year\n",
    "df_asia = df_asia[[\"vehicle_weight\", \"model_year\"]]"
   ],
   "id": "912a71da08cb5e7e",
   "outputs": [],
   "execution_count": 34
  },
  {
   "metadata": {
    "ExecuteTime": {
     "end_time": "2025-10-02T15:59:00.398723Z",
     "start_time": "2025-10-02T15:59:00.396471Z"
    }
   },
   "cell_type": "code",
   "source": [
    "# Select the first 7 values\n",
    "df_asia = df_asia.head(7)"
   ],
   "id": "e1cb204d38de9931",
   "outputs": [],
   "execution_count": 35
  },
  {
   "metadata": {
    "ExecuteTime": {
     "end_time": "2025-10-02T15:59:10.377864Z",
     "start_time": "2025-10-02T15:59:10.376251Z"
    }
   },
   "cell_type": "code",
   "source": [
    "# Get the underlying NumPy array. Let's call it X.\n",
    "X = df_asia.to_numpy()"
   ],
   "id": "811b7730a69fa6f5",
   "outputs": [],
   "execution_count": 36
  },
  {
   "metadata": {
    "ExecuteTime": {
     "end_time": "2025-10-02T15:59:21.832131Z",
     "start_time": "2025-10-02T15:59:21.830366Z"
    }
   },
   "cell_type": "code",
   "source": [
    "# Compute matrix-matrix multiplication between the transpose of X and X. To get the transpose, use X.T. Let's call the result XTX.\n",
    "XTX = X.T.dot(X)"
   ],
   "id": "867502704993a2b3",
   "outputs": [],
   "execution_count": 37
  },
  {
   "metadata": {
    "ExecuteTime": {
     "end_time": "2025-10-02T15:59:28.885599Z",
     "start_time": "2025-10-02T15:59:28.883051Z"
    }
   },
   "cell_type": "code",
   "source": [
    "# Invert XTX.\n",
    "XTX_inv = np.linalg.inv(XTX)"
   ],
   "id": "63020e76a945045c",
   "outputs": [],
   "execution_count": 38
  },
  {
   "metadata": {
    "ExecuteTime": {
     "end_time": "2025-10-02T15:59:36.107764Z",
     "start_time": "2025-10-02T15:59:36.105902Z"
    }
   },
   "cell_type": "code",
   "source": [
    "# Create an array y with values [1100, 1300, 800, 900, 1000, 1100, 1200].\n",
    "y = np.array([1100, 1300, 800, 900, 1000, 1100, 1200])"
   ],
   "id": "1ec838e5984a9fde",
   "outputs": [],
   "execution_count": 39
  },
  {
   "metadata": {
    "ExecuteTime": {
     "end_time": "2025-10-02T15:59:43.541649Z",
     "start_time": "2025-10-02T15:59:43.539560Z"
    }
   },
   "cell_type": "code",
   "source": [
    "# Multiply the inverse of XTX with the transpose of X, and then multiply the result by y. Call the result w.\n",
    "w = XTX_inv.dot(X.T).dot(y)"
   ],
   "id": "7a72e326d9158842",
   "outputs": [],
   "execution_count": 40
  },
  {
   "metadata": {
    "ExecuteTime": {
     "end_time": "2025-10-02T15:59:49.323852Z",
     "start_time": "2025-10-02T15:59:49.321459Z"
    }
   },
   "cell_type": "code",
   "source": [
    "# What's the sum of all the elements of the result?\n",
    "w.sum()"
   ],
   "id": "86e1f285ea74d1a0",
   "outputs": [
    {
     "data": {
      "text/plain": [
       "np.float64(0.5187709081074006)"
      ]
     },
     "execution_count": 41,
     "metadata": {},
     "output_type": "execute_result"
    }
   ],
   "execution_count": 41
  },
  {
   "metadata": {},
   "cell_type": "code",
   "outputs": [],
   "execution_count": null,
   "source": "",
   "id": "61fd1ea5a1e38ff"
  }
 ],
 "metadata": {
  "kernelspec": {
   "display_name": "Python 3",
   "language": "python",
   "name": "python3"
  },
  "language_info": {
   "codemirror_mode": {
    "name": "ipython",
    "version": 2
   },
   "file_extension": ".py",
   "mimetype": "text/x-python",
   "name": "python",
   "nbconvert_exporter": "python",
   "pygments_lexer": "ipython2",
   "version": "2.7.6"
  }
 },
 "nbformat": 4,
 "nbformat_minor": 5
}
