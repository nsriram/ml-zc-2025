{
 "cells": [
  {
   "cell_type": "code",
   "id": "initial_id",
   "metadata": {
    "collapsed": true,
    "ExecuteTime": {
     "end_time": "2025-10-02T15:02:50.227745Z",
     "start_time": "2025-10-02T15:02:50.226124Z"
    }
   },
   "source": [
    "import numpy as np\n",
    "import pandas as pd\n",
    "\n",
    "# Removes the limit for the number of displayed columns\n",
    "pd.set_option(\"display.max_columns\", None)\n",
    "# Sets the limit for the number of displayed rows\n",
    "pd.set_option(\"display.max_rows\", 100)\n",
    "\n",
    "# import and filter warnings\n",
    "import warnings\n",
    "warnings.filterwarnings(\"ignore\")"
   ],
   "outputs": [],
   "execution_count": 45
  },
  {
   "metadata": {},
   "cell_type": "markdown",
   "source": "### Single dimensional arrays",
   "id": "87e851280a2137e8"
  },
  {
   "metadata": {
    "ExecuteTime": {
     "end_time": "2025-10-02T14:48:58.392718Z",
     "start_time": "2025-10-02T14:48:58.389700Z"
    }
   },
   "cell_type": "code",
   "source": [
    "# Fills zeros in an array of size 5\n",
    "np.zeros(5)"
   ],
   "id": "81735bab12fe674c",
   "outputs": [
    {
     "data": {
      "text/plain": [
       "array([0., 0., 0., 0., 0.])"
      ]
     },
     "execution_count": 2,
     "metadata": {},
     "output_type": "execute_result"
    }
   ],
   "execution_count": 2
  },
  {
   "metadata": {
    "ExecuteTime": {
     "end_time": "2025-10-02T14:49:08.956232Z",
     "start_time": "2025-10-02T14:49:08.954185Z"
    }
   },
   "cell_type": "code",
   "source": [
    "# Fills ones in an array of size 5\n",
    "np.ones(5)"
   ],
   "id": "437f672dcc479e93",
   "outputs": [
    {
     "data": {
      "text/plain": [
       "array([1., 1., 1., 1., 1.])"
      ]
     },
     "execution_count": 3,
     "metadata": {},
     "output_type": "execute_result"
    }
   ],
   "execution_count": 3
  },
  {
   "metadata": {
    "ExecuteTime": {
     "end_time": "2025-10-02T14:49:26.731873Z",
     "start_time": "2025-10-02T14:49:26.728548Z"
    }
   },
   "cell_type": "code",
   "source": [
    "# Fills array of 10 elements with 2.5 as value\n",
    "np.full(10,2.5)"
   ],
   "id": "202620dbac81f9ea",
   "outputs": [
    {
     "data": {
      "text/plain": [
       "array([2.5, 2.5, 2.5, 2.5, 2.5, 2.5, 2.5, 2.5, 2.5, 2.5])"
      ]
     },
     "execution_count": 4,
     "metadata": {},
     "output_type": "execute_result"
    }
   ],
   "execution_count": 4
  },
  {
   "metadata": {
    "ExecuteTime": {
     "end_time": "2025-10-02T14:50:13.372906Z",
     "start_time": "2025-10-02T14:50:13.369495Z"
    }
   },
   "cell_type": "code",
   "source": [
    "# create a numpy array with values from 1 to 5\n",
    "a = np.array([1,2,3,4,5])\n",
    "a"
   ],
   "id": "4d0482437843e89c",
   "outputs": [
    {
     "data": {
      "text/plain": [
       "array([1, 2, 3, 4, 5])"
      ]
     },
     "execution_count": 6,
     "metadata": {},
     "output_type": "execute_result"
    }
   ],
   "execution_count": 6
  },
  {
   "metadata": {
    "ExecuteTime": {
     "end_time": "2025-10-02T14:50:35.494040Z",
     "start_time": "2025-10-02T14:50:35.491737Z"
    }
   },
   "cell_type": "code",
   "source": [
    "# access number 3 in the array\n",
    "a[2]"
   ],
   "id": "2e4dd2a8a1784195",
   "outputs": [
    {
     "data": {
      "text/plain": [
       "np.int64(3)"
      ]
     },
     "execution_count": 8,
     "metadata": {},
     "output_type": "execute_result"
    }
   ],
   "execution_count": 8
  },
  {
   "metadata": {
    "ExecuteTime": {
     "end_time": "2025-10-02T14:51:01.331257Z",
     "start_time": "2025-10-02T14:51:01.329076Z"
    }
   },
   "cell_type": "code",
   "source": [
    "# change the value in position 2 to 42 from 3\n",
    "a[2] = 42\n",
    "a"
   ],
   "id": "68b5892074de8d16",
   "outputs": [
    {
     "data": {
      "text/plain": [
       "array([ 1,  2, 42,  4,  5])"
      ]
     },
     "execution_count": 10,
     "metadata": {},
     "output_type": "execute_result"
    }
   ],
   "execution_count": 10
  },
  {
   "metadata": {
    "ExecuteTime": {
     "end_time": "2025-10-02T14:51:29.952065Z",
     "start_time": "2025-10-02T14:51:29.950054Z"
    }
   },
   "cell_type": "code",
   "source": [
    "# range function to print values from 0 to 10\n",
    "np.arange(10)"
   ],
   "id": "fcbf6abd2a18ff5e",
   "outputs": [
    {
     "data": {
      "text/plain": [
       "array([0, 1, 2, 3, 4, 5, 6, 7, 8, 9])"
      ]
     },
     "execution_count": 11,
     "metadata": {},
     "output_type": "execute_result"
    }
   ],
   "execution_count": 11
  },
  {
   "metadata": {
    "ExecuteTime": {
     "end_time": "2025-10-02T14:51:56.552932Z",
     "start_time": "2025-10-02T14:51:56.550628Z"
    }
   },
   "cell_type": "code",
   "source": [
    "# linspace function to create a range between 0 and 1 with 25 values\n",
    "np.linspace(0,1,25)"
   ],
   "id": "b945b3573517e9d2",
   "outputs": [
    {
     "data": {
      "text/plain": [
       "array([0.        , 0.04166667, 0.08333333, 0.125     , 0.16666667,\n",
       "       0.20833333, 0.25      , 0.29166667, 0.33333333, 0.375     ,\n",
       "       0.41666667, 0.45833333, 0.5       , 0.54166667, 0.58333333,\n",
       "       0.625     , 0.66666667, 0.70833333, 0.75      , 0.79166667,\n",
       "       0.83333333, 0.875     , 0.91666667, 0.95833333, 1.        ])"
      ]
     },
     "execution_count": 12,
     "metadata": {},
     "output_type": "execute_result"
    }
   ],
   "execution_count": 12
  },
  {
   "metadata": {},
   "cell_type": "markdown",
   "source": "### Multidimensional arrays",
   "id": "e4114de482d37c69"
  },
  {
   "metadata": {
    "ExecuteTime": {
     "end_time": "2025-10-02T14:53:05.916850Z",
     "start_time": "2025-10-02T14:53:05.914923Z"
    }
   },
   "cell_type": "code",
   "source": [
    "# 5x2 array with all values as 1\n",
    "np.ones((5,2))"
   ],
   "id": "702b62d33f6677cd",
   "outputs": [
    {
     "data": {
      "text/plain": [
       "array([[1., 1.],\n",
       "       [1., 1.],\n",
       "       [1., 1.],\n",
       "       [1., 1.],\n",
       "       [1., 1.]])"
      ]
     },
     "execution_count": 13,
     "metadata": {},
     "output_type": "execute_result"
    }
   ],
   "execution_count": 13
  },
  {
   "metadata": {
    "ExecuteTime": {
     "end_time": "2025-10-02T14:53:24.868370Z",
     "start_time": "2025-10-02T14:53:24.865135Z"
    }
   },
   "cell_type": "code",
   "source": [
    "# create a multidimensional array 3x3\n",
    "b = np.array([[1,2,3],[4,5,6],[7,8,9]])\n",
    "b"
   ],
   "id": "c3e2c7b29c4b803c",
   "outputs": [
    {
     "data": {
      "text/plain": [
       "array([[1, 2, 3],\n",
       "       [4, 5, 6],\n",
       "       [7, 8, 9]])"
      ]
     },
     "execution_count": 14,
     "metadata": {},
     "output_type": "execute_result"
    }
   ],
   "execution_count": 14
  },
  {
   "metadata": {
    "ExecuteTime": {
     "end_time": "2025-10-02T14:53:53.516062Z",
     "start_time": "2025-10-02T14:53:53.514072Z"
    }
   },
   "cell_type": "code",
   "source": [
    "# access value 5 from b\n",
    "b[1,1]"
   ],
   "id": "3e05e6ab4c84d3f5",
   "outputs": [
    {
     "data": {
      "text/plain": [
       "np.int64(5)"
      ]
     },
     "execution_count": 15,
     "metadata": {},
     "output_type": "execute_result"
    }
   ],
   "execution_count": 15
  },
  {
   "metadata": {
    "ExecuteTime": {
     "end_time": "2025-10-02T14:54:14.713042Z",
     "start_time": "2025-10-02T14:54:14.710618Z"
    }
   },
   "cell_type": "code",
   "source": [
    "# assign 20 to position of 5\n",
    "b[1,1] = 20\n",
    "b"
   ],
   "id": "86af5f59b81f48ba",
   "outputs": [
    {
     "data": {
      "text/plain": [
       "array([[ 1,  2,  3],\n",
       "       [ 4, 20,  6],\n",
       "       [ 7,  8,  9]])"
      ]
     },
     "execution_count": 16,
     "metadata": {},
     "output_type": "execute_result"
    }
   ],
   "execution_count": 16
  },
  {
   "metadata": {
    "ExecuteTime": {
     "end_time": "2025-10-02T14:55:04.827145Z",
     "start_time": "2025-10-02T14:55:04.824989Z"
    }
   },
   "cell_type": "code",
   "source": [
    "# print entire second row\n",
    "b[1]"
   ],
   "id": "813d4c572e11d216",
   "outputs": [
    {
     "data": {
      "text/plain": [
       "array([ 4, 20,  6])"
      ]
     },
     "execution_count": 18,
     "metadata": {},
     "output_type": "execute_result"
    }
   ],
   "execution_count": 18
  },
  {
   "metadata": {
    "ExecuteTime": {
     "end_time": "2025-10-02T14:54:47.833785Z",
     "start_time": "2025-10-02T14:54:47.831447Z"
    }
   },
   "cell_type": "code",
   "source": [
    "# print entire second row\n",
    "b[1,:]"
   ],
   "id": "f6aba288bc329f16",
   "outputs": [
    {
     "data": {
      "text/plain": [
       "array([ 4, 20,  6])"
      ]
     },
     "execution_count": 17,
     "metadata": {},
     "output_type": "execute_result"
    }
   ],
   "execution_count": 17
  },
  {
   "metadata": {
    "ExecuteTime": {
     "end_time": "2025-10-02T14:55:13.511998Z",
     "start_time": "2025-10-02T14:55:13.509758Z"
    }
   },
   "cell_type": "code",
   "source": [
    "# print entire second column\n",
    "b[:,1]"
   ],
   "id": "1f6bd064537d9018",
   "outputs": [
    {
     "data": {
      "text/plain": [
       "array([ 2, 20,  8])"
      ]
     },
     "execution_count": 19,
     "metadata": {},
     "output_type": "execute_result"
    }
   ],
   "execution_count": 19
  },
  {
   "metadata": {
    "ExecuteTime": {
     "end_time": "2025-10-02T14:55:23.085526Z",
     "start_time": "2025-10-02T14:55:23.082413Z"
    }
   },
   "cell_type": "code",
   "source": [
    "# print entire second column\n",
    "b[1]"
   ],
   "id": "a17231b625fbcc5b",
   "outputs": [
    {
     "data": {
      "text/plain": [
       "array([ 4, 20,  6])"
      ]
     },
     "execution_count": 20,
     "metadata": {},
     "output_type": "execute_result"
    }
   ],
   "execution_count": 20
  },
  {
   "metadata": {
    "ExecuteTime": {
     "end_time": "2025-10-02T14:55:39.304081Z",
     "start_time": "2025-10-02T14:55:39.302013Z"
    }
   },
   "cell_type": "code",
   "source": [
    "# print all rows\n",
    "b[:]"
   ],
   "id": "964a00e42adb2a0c",
   "outputs": [
    {
     "data": {
      "text/plain": [
       "array([[ 1,  2,  3],\n",
       "       [ 4, 20,  6],\n",
       "       [ 7,  8,  9]])"
      ]
     },
     "execution_count": 21,
     "metadata": {},
     "output_type": "execute_result"
    }
   ],
   "execution_count": 21
  },
  {
   "metadata": {
    "ExecuteTime": {
     "end_time": "2025-10-02T14:56:08.372528Z",
     "start_time": "2025-10-02T14:56:08.369905Z"
    }
   },
   "cell_type": "code",
   "source": [
    "#### Randomly generated arrays\n",
    "np.random.randn(5, 2)"
   ],
   "id": "9e7f0a7945158f96",
   "outputs": [
    {
     "data": {
      "text/plain": [
       "array([[ 0.31172369,  0.8708946 ],\n",
       "       [ 1.19401163, -0.66304069],\n",
       "       [ 0.84810496,  0.8743256 ],\n",
       "       [ 1.02976053,  0.20466172],\n",
       "       [-1.16724223, -0.66920477]])"
      ]
     },
     "execution_count": 22,
     "metadata": {},
     "output_type": "execute_result"
    }
   ],
   "execution_count": 22
  },
  {
   "metadata": {
    "ExecuteTime": {
     "end_time": "2025-10-02T14:56:56.603864Z",
     "start_time": "2025-10-02T14:56:56.601255Z"
    }
   },
   "cell_type": "code",
   "source": [
    "# set seed and generate random array\n",
    "np.random.seed(42)\n",
    "np.random.randn(5, 2)"
   ],
   "id": "6eb06f14e88b045c",
   "outputs": [
    {
     "data": {
      "text/plain": [
       "array([[ 0.49671415, -0.1382643 ],\n",
       "       [ 0.64768854,  1.52302986],\n",
       "       [-0.23415337, -0.23413696],\n",
       "       [ 1.57921282,  0.76743473],\n",
       "       [-0.46947439,  0.54256004]])"
      ]
     },
     "execution_count": 23,
     "metadata": {},
     "output_type": "execute_result"
    }
   ],
   "execution_count": 23
  },
  {
   "metadata": {
    "ExecuteTime": {
     "end_time": "2025-10-02T14:57:28.832212Z",
     "start_time": "2025-10-02T14:57:28.830057Z"
    }
   },
   "cell_type": "code",
   "source": [
    "# print again the same array by using the same seed\n",
    "np.random.seed(42)\n",
    "np.random.randn(5, 2)"
   ],
   "id": "41f69a61c9d680da",
   "outputs": [
    {
     "data": {
      "text/plain": [
       "array([[ 0.49671415, -0.1382643 ],\n",
       "       [ 0.64768854,  1.52302986],\n",
       "       [-0.23415337, -0.23413696],\n",
       "       [ 1.57921282,  0.76743473],\n",
       "       [-0.46947439,  0.54256004]])"
      ]
     },
     "execution_count": 26,
     "metadata": {},
     "output_type": "execute_result"
    }
   ],
   "execution_count": 26
  },
  {
   "metadata": {
    "ExecuteTime": {
     "end_time": "2025-10-02T14:57:53.724721Z",
     "start_time": "2025-10-02T14:57:53.722578Z"
    }
   },
   "cell_type": "code",
   "source": [
    "# generate random numbers from random distribution\n",
    "np.random.randn(5, 2)"
   ],
   "id": "f433828e63e4819f",
   "outputs": [
    {
     "data": {
      "text/plain": [
       "array([[-0.46341769, -0.46572975],\n",
       "       [ 0.24196227, -1.91328024],\n",
       "       [-1.72491783, -0.56228753],\n",
       "       [-1.01283112,  0.31424733],\n",
       "       [-0.90802408, -1.4123037 ]])"
      ]
     },
     "execution_count": 27,
     "metadata": {},
     "output_type": "execute_result"
    }
   ],
   "execution_count": 27
  },
  {
   "metadata": {
    "ExecuteTime": {
     "end_time": "2025-10-02T14:58:13.515449Z",
     "start_time": "2025-10-02T14:58:13.513288Z"
    }
   },
   "cell_type": "code",
   "source": [
    "# print random numbers by 10\n",
    "10 * np.random.randn(5, 2)"
   ],
   "id": "70142f0a1a1d2890",
   "outputs": [
    {
     "data": {
      "text/plain": [
       "array([[ 14.65648769,  -2.257763  ],\n",
       "       [  0.67528205, -14.24748186],\n",
       "       [ -5.44382725,   1.1092259 ],\n",
       "       [-11.50993577,   3.75698018],\n",
       "       [ -6.0063869 ,  -2.9169375 ]])"
      ]
     },
     "execution_count": 28,
     "metadata": {},
     "output_type": "execute_result"
    }
   ],
   "execution_count": 28
  },
  {
   "metadata": {
    "ExecuteTime": {
     "end_time": "2025-10-02T14:58:26.194759Z",
     "start_time": "2025-10-02T14:58:26.192478Z"
    }
   },
   "cell_type": "code",
   "source": [
    "# generate 10 random integers between 1 and 100\n",
    "np.random.randint(1,100,10)"
   ],
   "id": "2bf58e05fc603367",
   "outputs": [
    {
     "data": {
      "text/plain": [
       "array([84, 92, 60, 71, 44,  8, 47, 35, 78, 81])"
      ]
     },
     "execution_count": 29,
     "metadata": {},
     "output_type": "execute_result"
    }
   ],
   "execution_count": 29
  },
  {
   "metadata": {},
   "cell_type": "markdown",
   "source": "### Element-wise operations",
   "id": "f00713c5d2227ce9"
  },
  {
   "metadata": {
    "ExecuteTime": {
     "end_time": "2025-10-02T14:59:08.410907Z",
     "start_time": "2025-10-02T14:59:08.408176Z"
    }
   },
   "cell_type": "code",
   "source": [
    "a = np.arange(5)\n",
    "a"
   ],
   "id": "a0c3d1e15640e72e",
   "outputs": [
    {
     "data": {
      "text/plain": [
       "array([0, 1, 2, 3, 4])"
      ]
     },
     "execution_count": 31,
     "metadata": {},
     "output_type": "execute_result"
    }
   ],
   "execution_count": 31
  },
  {
   "metadata": {
    "ExecuteTime": {
     "end_time": "2025-10-02T14:59:18.231775Z",
     "start_time": "2025-10-02T14:59:18.229729Z"
    }
   },
   "cell_type": "code",
   "source": [
    "# Add 1 to all numbers\n",
    "a + 1"
   ],
   "id": "8d3bbb1f5fd62e20",
   "outputs": [
    {
     "data": {
      "text/plain": [
       "array([1, 2, 3, 4, 5])"
      ]
     },
     "execution_count": 32,
     "metadata": {},
     "output_type": "execute_result"
    }
   ],
   "execution_count": 32
  },
  {
   "metadata": {
    "ExecuteTime": {
     "end_time": "2025-10-02T14:59:28.146344Z",
     "start_time": "2025-10-02T14:59:28.144058Z"
    }
   },
   "cell_type": "code",
   "source": [
    "# multiply all numbers by 2\n",
    "a * 2"
   ],
   "id": "cbb24654b506fcee",
   "outputs": [
    {
     "data": {
      "text/plain": [
       "array([0, 2, 4, 6, 8])"
      ]
     },
     "execution_count": 33,
     "metadata": {},
     "output_type": "execute_result"
    }
   ],
   "execution_count": 33
  },
  {
   "metadata": {
    "ExecuteTime": {
     "end_time": "2025-10-02T15:00:28.638046Z",
     "start_time": "2025-10-02T15:00:28.634564Z"
    }
   },
   "cell_type": "code",
   "source": [
    "# create another array\n",
    "b = np.arange(5,10)\n",
    "b"
   ],
   "id": "a4dbbb7edb9d40ea",
   "outputs": [
    {
     "data": {
      "text/plain": [
       "array([5, 6, 7, 8, 9])"
      ]
     },
     "execution_count": 35,
     "metadata": {},
     "output_type": "execute_result"
    }
   ],
   "execution_count": 35
  },
  {
   "metadata": {
    "ExecuteTime": {
     "end_time": "2025-10-02T15:00:33.459050Z",
     "start_time": "2025-10-02T15:00:33.456961Z"
    }
   },
   "cell_type": "code",
   "source": [
    "# add two arrays\n",
    "a + b"
   ],
   "id": "c1a354d24db72818",
   "outputs": [
    {
     "data": {
      "text/plain": [
       "array([ 5,  7,  9, 11, 13])"
      ]
     },
     "execution_count": 36,
     "metadata": {},
     "output_type": "execute_result"
    }
   ],
   "execution_count": 36
  },
  {
   "metadata": {
    "ExecuteTime": {
     "end_time": "2025-10-02T15:00:40.179507Z",
     "start_time": "2025-10-02T15:00:40.177644Z"
    }
   },
   "cell_type": "code",
   "source": [
    "# multiply two arrays\n",
    "a * b"
   ],
   "id": "4ee07a98fb596dea",
   "outputs": [
    {
     "data": {
      "text/plain": [
       "array([ 0,  6, 14, 24, 36])"
      ]
     },
     "execution_count": 37,
     "metadata": {},
     "output_type": "execute_result"
    }
   ],
   "execution_count": 37
  },
  {
   "metadata": {},
   "cell_type": "markdown",
   "source": "### Comparison operations",
   "id": "734375ec82b224fd"
  },
  {
   "metadata": {
    "ExecuteTime": {
     "end_time": "2025-10-02T15:01:16.338778Z",
     "start_time": "2025-10-02T15:01:16.335865Z"
    }
   },
   "cell_type": "code",
   "source": [
    "# check if array elements greater than 3\n",
    "a > 3"
   ],
   "id": "534ab601aa0f4266",
   "outputs": [
    {
     "data": {
      "text/plain": [
       "array([False, False, False, False,  True])"
      ]
     },
     "execution_count": 38,
     "metadata": {},
     "output_type": "execute_result"
    }
   ],
   "execution_count": 38
  },
  {
   "metadata": {
    "ExecuteTime": {
     "end_time": "2025-10-02T15:01:26.015109Z",
     "start_time": "2025-10-02T15:01:26.012976Z"
    }
   },
   "cell_type": "code",
   "source": "b > 2",
   "id": "acea669a7ce928e0",
   "outputs": [
    {
     "data": {
      "text/plain": [
       "array([ True,  True,  True,  True,  True])"
      ]
     },
     "execution_count": 39,
     "metadata": {},
     "output_type": "execute_result"
    }
   ],
   "execution_count": 39
  },
  {
   "metadata": {
    "ExecuteTime": {
     "end_time": "2025-10-02T15:01:39.932723Z",
     "start_time": "2025-10-02T15:01:39.930019Z"
    }
   },
   "cell_type": "code",
   "source": [
    "# compare 2 arrays\n",
    "a > b"
   ],
   "id": "f04978bc9f0029df",
   "outputs": [
    {
     "data": {
      "text/plain": [
       "array([False, False, False, False, False])"
      ]
     },
     "execution_count": 41,
     "metadata": {},
     "output_type": "execute_result"
    }
   ],
   "execution_count": 41
  },
  {
   "metadata": {
    "ExecuteTime": {
     "end_time": "2025-10-02T15:02:25.225811Z",
     "start_time": "2025-10-02T15:02:25.223868Z"
    }
   },
   "cell_type": "code",
   "source": [
    "# check which eleemnts in b are greater than 6\n",
    "b[b > 6]"
   ],
   "id": "8b59f5d0c03c2924",
   "outputs": [
    {
     "data": {
      "text/plain": [
       "array([7, 8, 9])"
      ]
     },
     "execution_count": 44,
     "metadata": {},
     "output_type": "execute_result"
    }
   ],
   "execution_count": 44
  },
  {
   "metadata": {},
   "cell_type": "markdown",
   "source": "### Summarising operations",
   "id": "c319fb1f516f6b9b"
  },
  {
   "metadata": {
    "ExecuteTime": {
     "end_time": "2025-10-02T15:02:55.963498Z",
     "start_time": "2025-10-02T15:02:55.961234Z"
    }
   },
   "cell_type": "code",
   "source": "a",
   "id": "f588b4030c196510",
   "outputs": [
    {
     "data": {
      "text/plain": [
       "array([0, 1, 2, 3, 4])"
      ]
     },
     "execution_count": 46,
     "metadata": {},
     "output_type": "execute_result"
    }
   ],
   "execution_count": 46
  },
  {
   "metadata": {
    "ExecuteTime": {
     "end_time": "2025-10-02T15:02:59.447175Z",
     "start_time": "2025-10-02T15:02:59.444752Z"
    }
   },
   "cell_type": "code",
   "source": [
    "# maximum value in array\n",
    "a.max()"
   ],
   "id": "8196f807a089ecac",
   "outputs": [
    {
     "data": {
      "text/plain": [
       "np.int64(4)"
      ]
     },
     "execution_count": 47,
     "metadata": {},
     "output_type": "execute_result"
    }
   ],
   "execution_count": 47
  },
  {
   "metadata": {
    "ExecuteTime": {
     "end_time": "2025-10-02T15:03:17.465764Z",
     "start_time": "2025-10-02T15:03:17.463688Z"
    }
   },
   "cell_type": "code",
   "source": [
    "# minimum value in array\n",
    "a.min()"
   ],
   "id": "b77731e9bec43b42",
   "outputs": [
    {
     "data": {
      "text/plain": [
       "np.int64(0)"
      ]
     },
     "execution_count": 50,
     "metadata": {},
     "output_type": "execute_result"
    }
   ],
   "execution_count": 50
  },
  {
   "metadata": {
    "ExecuteTime": {
     "end_time": "2025-10-02T15:03:06.620357Z",
     "start_time": "2025-10-02T15:03:06.617428Z"
    }
   },
   "cell_type": "code",
   "source": "b.max()",
   "id": "ab09f56add720247",
   "outputs": [
    {
     "data": {
      "text/plain": [
       "np.int64(9)"
      ]
     },
     "execution_count": 49,
     "metadata": {},
     "output_type": "execute_result"
    }
   ],
   "execution_count": 49
  },
  {
   "metadata": {
    "ExecuteTime": {
     "end_time": "2025-10-02T15:03:54.934687Z",
     "start_time": "2025-10-02T15:03:54.931516Z"
    }
   },
   "cell_type": "code",
   "source": [
    "# array sum\n",
    "# create a multidimensional array 3x3\n",
    "b = np.array([[1,2,3],[4,5,6],[7,8,9]])\n",
    "b.sum()"
   ],
   "id": "9c9e351aeb8edbe8",
   "outputs": [
    {
     "data": {
      "text/plain": [
       "np.int64(45)"
      ]
     },
     "execution_count": 51,
     "metadata": {},
     "output_type": "execute_result"
    }
   ],
   "execution_count": 51
  },
  {
   "metadata": {
    "ExecuteTime": {
     "end_time": "2025-10-02T15:04:21.606767Z",
     "start_time": "2025-10-02T15:04:21.603775Z"
    }
   },
   "cell_type": "code",
   "source": [
    "# average\n",
    "b.mean()"
   ],
   "id": "a7c644c3d86ac515",
   "outputs": [
    {
     "data": {
      "text/plain": [
       "np.float64(5.0)"
      ]
     },
     "execution_count": 53,
     "metadata": {},
     "output_type": "execute_result"
    }
   ],
   "execution_count": 53
  },
  {
   "metadata": {
    "ExecuteTime": {
     "end_time": "2025-10-02T15:04:35.990079Z",
     "start_time": "2025-10-02T15:04:35.988130Z"
    }
   },
   "cell_type": "code",
   "source": [
    "# standard deviation\n",
    "b.std()"
   ],
   "id": "94f07b78959b99f5",
   "outputs": [
    {
     "data": {
      "text/plain": [
       "np.float64(2.581988897471611)"
      ]
     },
     "execution_count": 54,
     "metadata": {},
     "output_type": "execute_result"
    }
   ],
   "execution_count": 54
  },
  {
   "metadata": {
    "ExecuteTime": {
     "end_time": "2025-10-02T15:04:41.889036Z",
     "start_time": "2025-10-02T15:04:41.887107Z"
    }
   },
   "cell_type": "code",
   "source": "a.mean()",
   "id": "f4ef2d873927bd09",
   "outputs": [
    {
     "data": {
      "text/plain": [
       "np.float64(2.0)"
      ]
     },
     "execution_count": 55,
     "metadata": {},
     "output_type": "execute_result"
    }
   ],
   "execution_count": 55
  },
  {
   "metadata": {
    "ExecuteTime": {
     "end_time": "2025-10-02T15:04:45.643555Z",
     "start_time": "2025-10-02T15:04:45.641630Z"
    }
   },
   "cell_type": "code",
   "source": "a.std()",
   "id": "ec0432e317d0bf26",
   "outputs": [
    {
     "data": {
      "text/plain": [
       "np.float64(1.4142135623730951)"
      ]
     },
     "execution_count": 56,
     "metadata": {},
     "output_type": "execute_result"
    }
   ],
   "execution_count": 56
  },
  {
   "metadata": {},
   "cell_type": "code",
   "outputs": [],
   "execution_count": null,
   "source": "",
   "id": "c16b5c9601df1113"
  }
 ],
 "metadata": {
  "kernelspec": {
   "display_name": "Python 3",
   "language": "python",
   "name": "python3"
  },
  "language_info": {
   "codemirror_mode": {
    "name": "ipython",
    "version": 2
   },
   "file_extension": ".py",
   "mimetype": "text/x-python",
   "name": "python",
   "nbconvert_exporter": "python",
   "pygments_lexer": "ipython2",
   "version": "2.7.6"
  }
 },
 "nbformat": 4,
 "nbformat_minor": 5
}
